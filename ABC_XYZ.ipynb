{
 "cells": [
  {
   "cell_type": "markdown",
   "metadata": {},
   "source": [
    "На выходе нас интересуют следующие данные:\n",
    "\n",
    "☑ ABC / XYZ - анализ товарной номенклатуры и клиентской базы\n",
    "\n",
    "☑ Когортный анализ клиентов\n",
    "\n",
    "☑ Сформулированные выводы и предложения по сегментированию базы и товарной номенклатуры"
   ]
  },
  {
   "cell_type": "markdown",
   "metadata": {},
   "source": [
    "# ABC / XYZ - анализ товарной номенклатуры и клиентской базы"
   ]
  },
  {
   "cell_type": "code",
   "execution_count": 1,
   "metadata": {},
   "outputs": [],
   "source": [
    "import pandas as pd\n",
    "from sklearn import preprocessing\n",
    "from datetime import datetime\n",
    "import matplotlib.pyplot as plt # graphs\n",
    "import seaborn as sns\n",
    "import numpy as np\n",
    "\n",
    "from datetime import timedelta\n",
    "\n",
    "sns.set_style(\"dark\")\n",
    "sns.set()\n"
   ]
  },
  {
   "cell_type": "code",
   "execution_count": 2,
   "metadata": {},
   "outputs": [],
   "source": [
    "df = pd.read_excel('~/Documents/IM_Sales.xlsx',\n",
    "                   dtype={     'КодКонтрагента':str,\n",
    "                               'ТипКонтрагента':str,\n",
    "                               'РегионКонтрагента':str,\n",
    "                               'ДатаПродажи':str,\n",
    "                               'Ответственный':str,\n",
    "                               'КодНоменклатуры':str})"
   ]
  },
  {
   "cell_type": "code",
   "execution_count": 3,
   "metadata": {},
   "outputs": [],
   "source": [
    "df.drop(\n",
    "    columns=['ИННКонтрагента','Контрагент','НомерПродажи','Номенклатура','СтоимостьПродажиСНДС','НДС',\n",
    "             'СебестоимостьИлиСтоимостьПоПрайсу','РасчетнаяПрибыль','Ответственный'], inplace = True)"
   ]
  },
  {
   "cell_type": "code",
   "execution_count": 4,
   "metadata": {},
   "outputs": [],
   "source": [
    "pd.set_option('display.max_rows',6)"
   ]
  },
  {
   "cell_type": "code",
   "execution_count": 5,
   "metadata": {},
   "outputs": [
    {
     "name": "stdout",
     "output_type": "stream",
     "text": [
      "<class 'pandas.core.frame.DataFrame'>\n",
      "RangeIndex: 8441 entries, 0 to 8440\n",
      "Data columns (total 7 columns):\n",
      " #   Column                  Non-Null Count  Dtype  \n",
      "---  ------                  --------------  -----  \n",
      " 0   КодКонтрагента          8441 non-null   object \n",
      " 1   ТипКонтрагента          8441 non-null   object \n",
      " 2   РегионКонтрагента       8309 non-null   object \n",
      " 3   ДатаПродажи             8441 non-null   object \n",
      " 4   КодНоменклатуры         8441 non-null   object \n",
      " 5   Количество              8441 non-null   int64  \n",
      " 6   СтоимостьПродажиБезНДС  8441 non-null   float64\n",
      "dtypes: float64(1), int64(1), object(5)\n",
      "memory usage: 461.7+ KB\n"
     ]
    }
   ],
   "source": [
    "df.info()"
   ]
  },
  {
   "cell_type": "markdown",
   "metadata": {},
   "source": [
    "Меняем форматы"
   ]
  },
  {
   "cell_type": "code",
   "execution_count": 6,
   "metadata": {},
   "outputs": [],
   "source": [
    "df['ДатаПродажи'] = pd.to_datetime(df['ДатаПродажи'])"
   ]
  },
  {
   "cell_type": "code",
   "execution_count": 7,
   "metadata": {},
   "outputs": [],
   "source": [
    "df[['КодКонтрагента','ТипКонтрагента','РегионКонтрагента','КодНоменклатуры']] = \\\n",
    "df[['КодКонтрагента','ТипКонтрагента','РегионКонтрагента','КодНоменклатуры']].astype(str)"
   ]
  },
  {
   "cell_type": "code",
   "execution_count": 8,
   "metadata": {},
   "outputs": [
    {
     "data": {
      "text/plain": [
       "0"
      ]
     },
     "execution_count": 8,
     "metadata": {},
     "output_type": "execute_result"
    }
   ],
   "source": [
    "#Возвраты не обнаруживаем\n",
    "df[df['Количество']<0].count().sum()"
   ]
  },
  {
   "cell_type": "code",
   "execution_count": 9,
   "metadata": {},
   "outputs": [
    {
     "data": {
      "text/plain": [
       "0"
      ]
     },
     "execution_count": 9,
     "metadata": {},
     "output_type": "execute_result"
    }
   ],
   "source": [
    "#Пропуски не обнаруживаем\n",
    "df.isna().sum().sum()"
   ]
  },
  {
   "cell_type": "markdown",
   "metadata": {},
   "source": [
    "Меняем числовые данные на категориальные"
   ]
  },
  {
   "cell_type": "code",
   "execution_count": 10,
   "metadata": {},
   "outputs": [
    {
     "name": "stdout",
     "output_type": "stream",
     "text": [
      "['Аптеки, фармкомпании, аптечные базы'\n",
      " 'Ветеринарии, зверосовхозы, агрофирмы' 'Городские больницы' 'Гостиницы'\n",
      " 'Кафе, рестораны, предприятия общепита' 'Коммерческие, торговые компании'\n",
      " 'Медицинские центры' 'НИИ, ВУЗы, институты' 'Не распределенные'\n",
      " 'Парикмахерские, салоны красоты, тату-салоны' 'Поликлиники'\n",
      " 'Поставщики товаров' 'Поставщики услуг' 'Прочие объекты'\n",
      " 'Районные больницы' 'Санатории, пансионаты, турбазы'\n",
      " 'Стоматологические клиники и поликлиники'\n",
      " 'Строительные и эксплуатационные компании, ТСЖ, ЖЭУ, ЖСК'\n",
      " 'Торговые сети и ритейл' 'Физические лица'\n",
      " 'Школы, детские сады, учебные учреждения']\n",
      "['nan' 'Адыгея Респ' 'Алтайский край' 'Архангельская обл'\n",
      " 'Астраханская обл' 'Башкортостан Респ' 'Белгородская обл' 'Брянская обл'\n",
      " 'Бурятия Респ' 'Владимирская обл' 'Волгоградская обл' 'Вологодская обл'\n",
      " 'Воронежская обл' 'Дагестан Респ' 'Еврейская Аобл' 'Забайкальский край'\n",
      " 'Ивановская обл' 'Ингушетия Респ' 'Иркутская обл' 'КАЗАХСТАН'\n",
      " 'Кабардино-Балкарская Респ' 'Калининградская обл' 'Калужская обл'\n",
      " 'Камчатский край' 'Карелия Респ' 'Кемеровская обл' 'Кировская обл'\n",
      " 'Коми Респ' 'Костромская обл' 'Краснодарский край' 'Красноярский край'\n",
      " 'Крым Респ' 'Курганская обл' 'Курская обл' 'Ленинградская обл'\n",
      " 'Липецкая обл' 'Магаданская обл' 'Марий Эл Респ' 'Мордовия Респ'\n",
      " 'Москва г' 'Московская обл' 'Мурманская обл' 'Нижегородская обл'\n",
      " 'Новгородская обл' 'Новосибирская обл' 'Омская обл' 'Оренбургская обл'\n",
      " 'Орловская обл' 'Пензенская обл' 'Пермский край' 'Приморский край'\n",
      " 'Псковская обл' 'Ростовская обл' 'Рязанская обл' 'Самарская обл'\n",
      " 'Санкт-Петербург г' 'Саратовская обл' 'Саха /Якутия/ Респ'\n",
      " 'Сахалинская обл' 'Свердловская обл' 'Севастополь г'\n",
      " 'Северная Осетия - Алания Респ' 'Смоленская обл' 'Ставропольский край'\n",
      " 'Сходня' 'Тамбовская обл' 'Татарстан Респ' 'Тверская обл' 'Томская обл'\n",
      " 'Тульская обл' 'Тюменская обл' 'Удмуртская Респ' 'Ульяновская обл'\n",
      " 'Хабаровский край' 'Хакасия Респ'\n",
      " 'Ханты-Мансийский Автономный округ - Югра АО' 'Челябинская обл'\n",
      " 'Чувашская Республика - Чувашия' 'Чукотский АО' 'Ямало-Ненецкий АО'\n",
      " 'Ярославская обл']\n"
     ]
    }
   ],
   "source": [
    "from sklearn import preprocessing\n",
    "lable_encoder = preprocessing.LabelEncoder()\n",
    "cols = ['ТипКонтрагента','РегионКонтрагента']\n",
    "for col in cols:\n",
    "    df[col] = lable_encoder.fit_transform(df[col])\n",
    "    print(lable_encoder.classes_)"
   ]
  },
  {
   "cell_type": "code",
   "execution_count": 11,
   "metadata": {},
   "outputs": [],
   "source": [
    "df['МесяцПродажи'] = pd.DatetimeIndex(df['ДатаПродажи']).month"
   ]
  },
  {
   "cell_type": "markdown",
   "metadata": {},
   "source": [
    "# XYZ анализ"
   ]
  },
  {
   "cell_type": "markdown",
   "metadata": {},
   "source": [
    "Для анализа возьмем продажи за последние 12 месяцев (в файле взят полный 2022 год), сгруппируем по коду и месяцу. "
   ]
  },
  {
   "cell_type": "code",
   "execution_count": 12,
   "metadata": {},
   "outputs": [],
   "source": [
    "df_12m = df[(df['ДатаПродажи'] >= '2022-01-01') & (df['ДатаПродажи'] < '2023-01-01')]"
   ]
  },
  {
   "cell_type": "code",
   "execution_count": 40,
   "metadata": {},
   "outputs": [
    {
     "data": {
      "text/plain": [
       "3768423.03"
      ]
     },
     "execution_count": 40,
     "metadata": {},
     "output_type": "execute_result"
    }
   ],
   "source": [
    "df['СтоимостьПродажиБезНДС'].sum()"
   ]
  },
  {
   "cell_type": "code",
   "execution_count": 13,
   "metadata": {},
   "outputs": [
    {
     "name": "stderr",
     "output_type": "stream",
     "text": [
      "<ipython-input-13-903d3e6971e3>:1: FutureWarning: Indexing with multiple keys (implicitly converted to a tuple of keys) will be deprecated, use a list instead.\n",
      "  df_12m = df.groupby(['КодКонтрагента','КодНоменклатуры','МесяцПродажи'])\\\n"
     ]
    }
   ],
   "source": [
    "df_12m = df.groupby(['КодКонтрагента','КодНоменклатуры','МесяцПродажи'])\\\n",
    "                ['Количество','СтоимостьПродажиБезНДС'].sum().reset_index()"
   ]
  },
  {
   "cell_type": "code",
   "execution_count": 14,
   "metadata": {},
   "outputs": [
    {
     "data": {
      "text/html": [
       "<div>\n",
       "<style scoped>\n",
       "    .dataframe tbody tr th:only-of-type {\n",
       "        vertical-align: middle;\n",
       "    }\n",
       "\n",
       "    .dataframe tbody tr th {\n",
       "        vertical-align: top;\n",
       "    }\n",
       "\n",
       "    .dataframe thead th {\n",
       "        text-align: right;\n",
       "    }\n",
       "</style>\n",
       "<table border=\"1\" class=\"dataframe\">\n",
       "  <thead>\n",
       "    <tr style=\"text-align: right;\">\n",
       "      <th></th>\n",
       "      <th>КодКонтрагента</th>\n",
       "      <th>КодНоменклатуры</th>\n",
       "      <th>МесяцПродажи</th>\n",
       "      <th>Количество</th>\n",
       "      <th>СтоимостьПродажиБезНДС</th>\n",
       "    </tr>\n",
       "  </thead>\n",
       "  <tbody>\n",
       "    <tr>\n",
       "      <th>0</th>\n",
       "      <td>01509</td>\n",
       "      <td>1780</td>\n",
       "      <td>12</td>\n",
       "      <td>1</td>\n",
       "      <td>416.67</td>\n",
       "    </tr>\n",
       "    <tr>\n",
       "      <th>1</th>\n",
       "      <td>01509</td>\n",
       "      <td>4534</td>\n",
       "      <td>4</td>\n",
       "      <td>1</td>\n",
       "      <td>415.83</td>\n",
       "    </tr>\n",
       "    <tr>\n",
       "      <th>2</th>\n",
       "      <td>01509</td>\n",
       "      <td>4534</td>\n",
       "      <td>8</td>\n",
       "      <td>1</td>\n",
       "      <td>415.83</td>\n",
       "    </tr>\n",
       "    <tr>\n",
       "      <th>...</th>\n",
       "      <td>...</td>\n",
       "      <td>...</td>\n",
       "      <td>...</td>\n",
       "      <td>...</td>\n",
       "      <td>...</td>\n",
       "    </tr>\n",
       "    <tr>\n",
       "      <th>7555</th>\n",
       "      <td>48807</td>\n",
       "      <td>4534</td>\n",
       "      <td>1</td>\n",
       "      <td>1</td>\n",
       "      <td>450.00</td>\n",
       "    </tr>\n",
       "    <tr>\n",
       "      <th>7556</th>\n",
       "      <td>48813</td>\n",
       "      <td>4534</td>\n",
       "      <td>1</td>\n",
       "      <td>1</td>\n",
       "      <td>550.00</td>\n",
       "    </tr>\n",
       "    <tr>\n",
       "      <th>7557</th>\n",
       "      <td>48823</td>\n",
       "      <td>4534</td>\n",
       "      <td>1</td>\n",
       "      <td>1</td>\n",
       "      <td>450.00</td>\n",
       "    </tr>\n",
       "  </tbody>\n",
       "</table>\n",
       "<p>7558 rows × 5 columns</p>\n",
       "</div>"
      ],
      "text/plain": [
       "     КодКонтрагента КодНоменклатуры  МесяцПродажи  Количество  \\\n",
       "0             01509            1780            12           1   \n",
       "1             01509            4534             4           1   \n",
       "2             01509            4534             8           1   \n",
       "...             ...             ...           ...         ...   \n",
       "7555          48807            4534             1           1   \n",
       "7556          48813            4534             1           1   \n",
       "7557          48823            4534             1           1   \n",
       "\n",
       "      СтоимостьПродажиБезНДС  \n",
       "0                     416.67  \n",
       "1                     415.83  \n",
       "2                     415.83  \n",
       "...                      ...  \n",
       "7555                  450.00  \n",
       "7556                  550.00  \n",
       "7557                  450.00  \n",
       "\n",
       "[7558 rows x 5 columns]"
      ]
     },
     "execution_count": 14,
     "metadata": {},
     "output_type": "execute_result"
    }
   ],
   "source": [
    "df_12m"
   ]
  },
  {
   "cell_type": "markdown",
   "metadata": {},
   "source": [
    "График сезонности лучше показывает, как количество и стоимость продаж меняются в течение года. Весенние месяцы более загружены и пик выручки пришелся на ноябрь. "
   ]
  },
  {
   "cell_type": "code",
   "execution_count": 15,
   "metadata": {},
   "outputs": [
    {
     "data": {
      "image/png": "[encoded data removed]",
      "text/plain": [
       "<Figure size 1080x432 with 1 Axes>"
      ]
     },
     "metadata": {
      "needs_background": "light"
     },
     "output_type": "display_data"
    }
   ],
   "source": [
    "f, ax = plt.subplots(figsize=(15, 6))\n",
    "ax = sns.barplot(x=\"МесяцПродажи\", \n",
    "                 y=\"Количество\", \n",
    "                 data=df_12m,\n",
    "                 palette=\"Blues_d\")\\\n",
    "                .set_title(\"Количество по месяцам\",fontsize=15)\n"
   ]
  },
  {
   "cell_type": "code",
   "execution_count": 16,
   "metadata": {},
   "outputs": [
    {
     "data": {
      "image/png": "[encoded data removed]",
      "text/plain": [
       "<Figure size 1080x432 with 1 Axes>"
      ]
     },
     "metadata": {
      "needs_background": "light"
     },
     "output_type": "display_data"
    }
   ],
   "source": [
    "f, ax = plt.subplots(figsize=(15, 6))\n",
    "ax = sns.barplot(x=\"МесяцПродажи\", \n",
    "                 y=\"СтоимостьПродажиБезНДС\", \n",
    "                 data=df_12m,\n",
    "                 palette=\"Blues_d\")\\\n",
    "                .set_title(\"СтоимостьПродажиБезНДС по месяцам\",fontsize=15)"
   ]
  },
  {
   "cell_type": "markdown",
   "metadata": {},
   "source": [
    "Сгруппируем датасет с нужными колонками и, для удобства подсчета, переформатируем данные в матрицу с месяцами в столбцах "
   ]
  },
  {
   "cell_type": "code",
   "execution_count": 17,
   "metadata": {},
   "outputs": [
    {
     "data": {
      "text/html": [
       "<div>\n",
       "<style scoped>\n",
       "    .dataframe tbody tr th:only-of-type {\n",
       "        vertical-align: middle;\n",
       "    }\n",
       "\n",
       "    .dataframe tbody tr th {\n",
       "        vertical-align: top;\n",
       "    }\n",
       "\n",
       "    .dataframe thead th {\n",
       "        text-align: right;\n",
       "    }\n",
       "</style>\n",
       "<table border=\"1\" class=\"dataframe\">\n",
       "  <thead>\n",
       "    <tr style=\"text-align: right;\">\n",
       "      <th></th>\n",
       "      <th>КодНоменклатуры</th>\n",
       "      <th>МесяцПродажи</th>\n",
       "      <th>Количество</th>\n",
       "    </tr>\n",
       "  </thead>\n",
       "  <tbody>\n",
       "    <tr>\n",
       "      <th>0</th>\n",
       "      <td>14796</td>\n",
       "      <td>11</td>\n",
       "      <td>15</td>\n",
       "    </tr>\n",
       "    <tr>\n",
       "      <th>1</th>\n",
       "      <td>16069</td>\n",
       "      <td>1</td>\n",
       "      <td>60</td>\n",
       "    </tr>\n",
       "    <tr>\n",
       "      <th>2</th>\n",
       "      <td>16069</td>\n",
       "      <td>2</td>\n",
       "      <td>57</td>\n",
       "    </tr>\n",
       "    <tr>\n",
       "      <th>3</th>\n",
       "      <td>16069</td>\n",
       "      <td>3</td>\n",
       "      <td>52</td>\n",
       "    </tr>\n",
       "    <tr>\n",
       "      <th>4</th>\n",
       "      <td>16069</td>\n",
       "      <td>4</td>\n",
       "      <td>47</td>\n",
       "    </tr>\n",
       "  </tbody>\n",
       "</table>\n",
       "</div>"
      ],
      "text/plain": [
       "  КодНоменклатуры  МесяцПродажи  Количество\n",
       "0           14796            11          15\n",
       "1           16069             1          60\n",
       "2           16069             2          57\n",
       "3           16069             3          52\n",
       "4           16069             4          47"
      ]
     },
     "execution_count": 17,
     "metadata": {},
     "output_type": "execute_result"
    }
   ],
   "source": [
    "df_12m_units = df_12m.groupby(['КодНоменклатуры','МесяцПродажи'])['Количество'].sum().to_frame().reset_index()\n",
    "df_12m_units.head()"
   ]
  },
  {
   "cell_type": "code",
   "execution_count": 18,
   "metadata": {},
   "outputs": [
    {
     "data": {
      "text/html": [
       "<div>\n",
       "<style scoped>\n",
       "    .dataframe tbody tr th:only-of-type {\n",
       "        vertical-align: middle;\n",
       "    }\n",
       "\n",
       "    .dataframe tbody tr th {\n",
       "        vertical-align: top;\n",
       "    }\n",
       "\n",
       "    .dataframe thead th {\n",
       "        text-align: right;\n",
       "    }\n",
       "</style>\n",
       "<table border=\"1\" class=\"dataframe\">\n",
       "  <thead>\n",
       "    <tr style=\"text-align: right;\">\n",
       "      <th>МесяцПродажи</th>\n",
       "      <th>КодНоменклатуры</th>\n",
       "      <th>m1</th>\n",
       "      <th>m2</th>\n",
       "      <th>m3</th>\n",
       "      <th>m4</th>\n",
       "      <th>m5</th>\n",
       "      <th>m6</th>\n",
       "      <th>m7</th>\n",
       "      <th>m8</th>\n",
       "      <th>m9</th>\n",
       "      <th>m10</th>\n",
       "      <th>m11</th>\n",
       "      <th>m12</th>\n",
       "    </tr>\n",
       "  </thead>\n",
       "  <tbody>\n",
       "    <tr>\n",
       "      <th>0</th>\n",
       "      <td>14796</td>\n",
       "      <td>0.0</td>\n",
       "      <td>0.0</td>\n",
       "      <td>0.0</td>\n",
       "      <td>0.0</td>\n",
       "      <td>0.0</td>\n",
       "      <td>0.0</td>\n",
       "      <td>0.0</td>\n",
       "      <td>0.0</td>\n",
       "      <td>0.0</td>\n",
       "      <td>0.0</td>\n",
       "      <td>15.0</td>\n",
       "      <td>0.0</td>\n",
       "    </tr>\n",
       "    <tr>\n",
       "      <th>1</th>\n",
       "      <td>16069</td>\n",
       "      <td>60.0</td>\n",
       "      <td>57.0</td>\n",
       "      <td>52.0</td>\n",
       "      <td>47.0</td>\n",
       "      <td>54.0</td>\n",
       "      <td>65.0</td>\n",
       "      <td>76.0</td>\n",
       "      <td>77.0</td>\n",
       "      <td>93.0</td>\n",
       "      <td>87.0</td>\n",
       "      <td>83.0</td>\n",
       "      <td>72.0</td>\n",
       "    </tr>\n",
       "    <tr>\n",
       "      <th>2</th>\n",
       "      <td>16070</td>\n",
       "      <td>8.0</td>\n",
       "      <td>17.0</td>\n",
       "      <td>17.0</td>\n",
       "      <td>15.0</td>\n",
       "      <td>9.0</td>\n",
       "      <td>39.0</td>\n",
       "      <td>50.0</td>\n",
       "      <td>30.0</td>\n",
       "      <td>23.0</td>\n",
       "      <td>39.0</td>\n",
       "      <td>16.0</td>\n",
       "      <td>23.0</td>\n",
       "    </tr>\n",
       "    <tr>\n",
       "      <th>3</th>\n",
       "      <td>16622</td>\n",
       "      <td>0.0</td>\n",
       "      <td>0.0</td>\n",
       "      <td>0.0</td>\n",
       "      <td>0.0</td>\n",
       "      <td>0.0</td>\n",
       "      <td>0.0</td>\n",
       "      <td>0.0</td>\n",
       "      <td>0.0</td>\n",
       "      <td>0.0</td>\n",
       "      <td>0.0</td>\n",
       "      <td>20.0</td>\n",
       "      <td>0.0</td>\n",
       "    </tr>\n",
       "    <tr>\n",
       "      <th>4</th>\n",
       "      <td>1780</td>\n",
       "      <td>448.0</td>\n",
       "      <td>433.0</td>\n",
       "      <td>437.0</td>\n",
       "      <td>427.0</td>\n",
       "      <td>523.0</td>\n",
       "      <td>588.0</td>\n",
       "      <td>522.0</td>\n",
       "      <td>470.0</td>\n",
       "      <td>516.0</td>\n",
       "      <td>591.0</td>\n",
       "      <td>456.0</td>\n",
       "      <td>410.0</td>\n",
       "    </tr>\n",
       "  </tbody>\n",
       "</table>\n",
       "</div>"
      ],
      "text/plain": [
       "МесяцПродажи КодНоменклатуры     m1     m2     m3     m4     m5     m6     m7  \\\n",
       "0                      14796    0.0    0.0    0.0    0.0    0.0    0.0    0.0   \n",
       "1                      16069   60.0   57.0   52.0   47.0   54.0   65.0   76.0   \n",
       "2                      16070    8.0   17.0   17.0   15.0    9.0   39.0   50.0   \n",
       "3                      16622    0.0    0.0    0.0    0.0    0.0    0.0    0.0   \n",
       "4                       1780  448.0  433.0  437.0  427.0  523.0  588.0  522.0   \n",
       "\n",
       "МесяцПродажи     m8     m9    m10    m11    m12  \n",
       "0               0.0    0.0    0.0   15.0    0.0  \n",
       "1              77.0   93.0   87.0   83.0   72.0  \n",
       "2              30.0   23.0   39.0   16.0   23.0  \n",
       "3               0.0    0.0    0.0   20.0    0.0  \n",
       "4             470.0  516.0  591.0  456.0  410.0  "
      ]
     },
     "execution_count": 18,
     "metadata": {},
     "output_type": "execute_result"
    }
   ],
   "source": [
    "df_12m_units = df_12m_units.pivot(index='КодНоменклатуры', columns='МесяцПродажи', values='Количество')\\\n",
    "                           .add_prefix('m').reset_index().fillna(0)\n",
    "df_12m_units.head()\n"
   ]
  },
  {
   "cell_type": "markdown",
   "metadata": {},
   "source": [
    "Подсчитаем общее количество, среднее, стандартное отклонение и коэффициент"
   ]
  },
  {
   "cell_type": "code",
   "execution_count": 19,
   "metadata": {},
   "outputs": [],
   "source": [
    "df_12m_units['total_demand'] = df_12m_units['m1'] + df_12m_units['m2'] + df_12m_units['m3'] +\\\n",
    "                               df_12m_units['m4'] + df_12m_units['m5'] + df_12m_units['m6'] +\\\n",
    "                               df_12m_units['m7'] + df_12m_units['m8'] + df_12m_units['m9'] +\\\n",
    "                               df_12m_units['m10'] + df_12m_units['m11'] + df_12m_units['m12']"
   ]
  },
  {
   "cell_type": "code",
   "execution_count": 20,
   "metadata": {},
   "outputs": [],
   "source": [
    "df_12m_units['avg_demand'] = df_12m_units['total_demand'] / 12 "
   ]
  },
  {
   "cell_type": "code",
   "execution_count": 21,
   "metadata": {},
   "outputs": [],
   "source": [
    "df_12m_units['std_demand'] = df_12m_units[['m1','m2','m3','m4','m5','m6',\n",
    "                                    'm7','m8','m9','m10','m11','m12']].std(axis=1)"
   ]
  },
  {
   "cell_type": "code",
   "execution_count": 22,
   "metadata": {},
   "outputs": [],
   "source": [
    "df_12m_units['cov_demand'] = df_12m_units['std_demand'] / df_12m_units['avg_demand']"
   ]
  },
  {
   "cell_type": "markdown",
   "metadata": {},
   "source": [
    "Изучаем его максимальные и минимальне показатели. "
   ]
  },
  {
   "cell_type": "code",
   "execution_count": 23,
   "metadata": {},
   "outputs": [
    {
     "data": {
      "text/html": [
       "<div>\n",
       "<style scoped>\n",
       "    .dataframe tbody tr th:only-of-type {\n",
       "        vertical-align: middle;\n",
       "    }\n",
       "\n",
       "    .dataframe tbody tr th {\n",
       "        vertical-align: top;\n",
       "    }\n",
       "\n",
       "    .dataframe thead th {\n",
       "        text-align: right;\n",
       "    }\n",
       "</style>\n",
       "<table border=\"1\" class=\"dataframe\">\n",
       "  <thead>\n",
       "    <tr style=\"text-align: right;\">\n",
       "      <th>МесяцПродажи</th>\n",
       "      <th>КодНоменклатуры</th>\n",
       "      <th>m1</th>\n",
       "      <th>m2</th>\n",
       "      <th>m3</th>\n",
       "      <th>m4</th>\n",
       "      <th>m5</th>\n",
       "      <th>m6</th>\n",
       "      <th>m7</th>\n",
       "      <th>m8</th>\n",
       "      <th>m9</th>\n",
       "      <th>m10</th>\n",
       "      <th>m11</th>\n",
       "      <th>m12</th>\n",
       "      <th>total_demand</th>\n",
       "      <th>avg_demand</th>\n",
       "      <th>std_demand</th>\n",
       "      <th>cov_demand</th>\n",
       "    </tr>\n",
       "  </thead>\n",
       "  <tbody>\n",
       "    <tr>\n",
       "      <th>0</th>\n",
       "      <td>14796</td>\n",
       "      <td>0.0</td>\n",
       "      <td>0.0</td>\n",
       "      <td>0.0</td>\n",
       "      <td>0.0</td>\n",
       "      <td>0.0</td>\n",
       "      <td>0.0</td>\n",
       "      <td>0.0</td>\n",
       "      <td>0.0</td>\n",
       "      <td>0.0</td>\n",
       "      <td>0.0</td>\n",
       "      <td>15.0</td>\n",
       "      <td>0.0</td>\n",
       "      <td>15.0</td>\n",
       "      <td>1.250000</td>\n",
       "      <td>4.330127</td>\n",
       "      <td>3.464102</td>\n",
       "    </tr>\n",
       "    <tr>\n",
       "      <th>1</th>\n",
       "      <td>16069</td>\n",
       "      <td>60.0</td>\n",
       "      <td>57.0</td>\n",
       "      <td>52.0</td>\n",
       "      <td>47.0</td>\n",
       "      <td>54.0</td>\n",
       "      <td>65.0</td>\n",
       "      <td>76.0</td>\n",
       "      <td>77.0</td>\n",
       "      <td>93.0</td>\n",
       "      <td>87.0</td>\n",
       "      <td>83.0</td>\n",
       "      <td>72.0</td>\n",
       "      <td>823.0</td>\n",
       "      <td>68.583333</td>\n",
       "      <td>14.939017</td>\n",
       "      <td>0.217823</td>\n",
       "    </tr>\n",
       "    <tr>\n",
       "      <th>2</th>\n",
       "      <td>16070</td>\n",
       "      <td>8.0</td>\n",
       "      <td>17.0</td>\n",
       "      <td>17.0</td>\n",
       "      <td>15.0</td>\n",
       "      <td>9.0</td>\n",
       "      <td>39.0</td>\n",
       "      <td>50.0</td>\n",
       "      <td>30.0</td>\n",
       "      <td>23.0</td>\n",
       "      <td>39.0</td>\n",
       "      <td>16.0</td>\n",
       "      <td>23.0</td>\n",
       "      <td>286.0</td>\n",
       "      <td>23.833333</td>\n",
       "      <td>13.099850</td>\n",
       "      <td>0.549644</td>\n",
       "    </tr>\n",
       "    <tr>\n",
       "      <th>3</th>\n",
       "      <td>16622</td>\n",
       "      <td>0.0</td>\n",
       "      <td>0.0</td>\n",
       "      <td>0.0</td>\n",
       "      <td>0.0</td>\n",
       "      <td>0.0</td>\n",
       "      <td>0.0</td>\n",
       "      <td>0.0</td>\n",
       "      <td>0.0</td>\n",
       "      <td>0.0</td>\n",
       "      <td>0.0</td>\n",
       "      <td>20.0</td>\n",
       "      <td>0.0</td>\n",
       "      <td>20.0</td>\n",
       "      <td>1.666667</td>\n",
       "      <td>5.773503</td>\n",
       "      <td>3.464102</td>\n",
       "    </tr>\n",
       "    <tr>\n",
       "      <th>4</th>\n",
       "      <td>1780</td>\n",
       "      <td>448.0</td>\n",
       "      <td>433.0</td>\n",
       "      <td>437.0</td>\n",
       "      <td>427.0</td>\n",
       "      <td>523.0</td>\n",
       "      <td>588.0</td>\n",
       "      <td>522.0</td>\n",
       "      <td>470.0</td>\n",
       "      <td>516.0</td>\n",
       "      <td>591.0</td>\n",
       "      <td>456.0</td>\n",
       "      <td>410.0</td>\n",
       "      <td>5821.0</td>\n",
       "      <td>485.083333</td>\n",
       "      <td>61.828882</td>\n",
       "      <td>0.127460</td>\n",
       "    </tr>\n",
       "  </tbody>\n",
       "</table>\n",
       "</div>"
      ],
      "text/plain": [
       "МесяцПродажи КодНоменклатуры     m1     m2     m3     m4     m5     m6     m7  \\\n",
       "0                      14796    0.0    0.0    0.0    0.0    0.0    0.0    0.0   \n",
       "1                      16069   60.0   57.0   52.0   47.0   54.0   65.0   76.0   \n",
       "2                      16070    8.0   17.0   17.0   15.0    9.0   39.0   50.0   \n",
       "3                      16622    0.0    0.0    0.0    0.0    0.0    0.0    0.0   \n",
       "4                       1780  448.0  433.0  437.0  427.0  523.0  588.0  522.0   \n",
       "\n",
       "МесяцПродажи     m8     m9    m10    m11    m12  total_demand  avg_demand  \\\n",
       "0               0.0    0.0    0.0   15.0    0.0          15.0    1.250000   \n",
       "1              77.0   93.0   87.0   83.0   72.0         823.0   68.583333   \n",
       "2              30.0   23.0   39.0   16.0   23.0         286.0   23.833333   \n",
       "3               0.0    0.0    0.0   20.0    0.0          20.0    1.666667   \n",
       "4             470.0  516.0  591.0  456.0  410.0        5821.0  485.083333   \n",
       "\n",
       "МесяцПродажи  std_demand  cov_demand  \n",
       "0               4.330127    3.464102  \n",
       "1              14.939017    0.217823  \n",
       "2              13.099850    0.549644  \n",
       "3               5.773503    3.464102  \n",
       "4              61.828882    0.127460  "
      ]
     },
     "execution_count": 23,
     "metadata": {},
     "output_type": "execute_result"
    }
   ],
   "source": [
    "df_12m_units.head()"
   ]
  },
  {
   "cell_type": "code",
   "execution_count": 24,
   "metadata": {},
   "outputs": [
    {
     "data": {
      "text/html": [
       "<div>\n",
       "<style scoped>\n",
       "    .dataframe tbody tr th:only-of-type {\n",
       "        vertical-align: middle;\n",
       "    }\n",
       "\n",
       "    .dataframe tbody tr th {\n",
       "        vertical-align: top;\n",
       "    }\n",
       "\n",
       "    .dataframe thead th {\n",
       "        text-align: right;\n",
       "    }\n",
       "</style>\n",
       "<table border=\"1\" class=\"dataframe\">\n",
       "  <thead>\n",
       "    <tr style=\"text-align: right;\">\n",
       "      <th>МесяцПродажи</th>\n",
       "      <th>КодНоменклатуры</th>\n",
       "      <th>m1</th>\n",
       "      <th>m2</th>\n",
       "      <th>m3</th>\n",
       "      <th>m4</th>\n",
       "      <th>m5</th>\n",
       "      <th>m6</th>\n",
       "      <th>m7</th>\n",
       "      <th>m8</th>\n",
       "      <th>m9</th>\n",
       "      <th>m10</th>\n",
       "      <th>m11</th>\n",
       "      <th>m12</th>\n",
       "      <th>total_demand</th>\n",
       "      <th>avg_demand</th>\n",
       "      <th>std_demand</th>\n",
       "      <th>cov_demand</th>\n",
       "    </tr>\n",
       "  </thead>\n",
       "  <tbody>\n",
       "    <tr>\n",
       "      <th>0</th>\n",
       "      <td>14796</td>\n",
       "      <td>0.0</td>\n",
       "      <td>0.0</td>\n",
       "      <td>0.0</td>\n",
       "      <td>0.0</td>\n",
       "      <td>0.0</td>\n",
       "      <td>0.0</td>\n",
       "      <td>0.0</td>\n",
       "      <td>0.0</td>\n",
       "      <td>0.0</td>\n",
       "      <td>0.0</td>\n",
       "      <td>15.0</td>\n",
       "      <td>0.0</td>\n",
       "      <td>15.0</td>\n",
       "      <td>1.250000</td>\n",
       "      <td>4.330127</td>\n",
       "      <td>3.464102</td>\n",
       "    </tr>\n",
       "    <tr>\n",
       "      <th>8</th>\n",
       "      <td>4450</td>\n",
       "      <td>0.0</td>\n",
       "      <td>0.0</td>\n",
       "      <td>0.0</td>\n",
       "      <td>0.0</td>\n",
       "      <td>0.0</td>\n",
       "      <td>0.0</td>\n",
       "      <td>0.0</td>\n",
       "      <td>0.0</td>\n",
       "      <td>0.0</td>\n",
       "      <td>0.0</td>\n",
       "      <td>30.0</td>\n",
       "      <td>0.0</td>\n",
       "      <td>30.0</td>\n",
       "      <td>2.500000</td>\n",
       "      <td>8.660254</td>\n",
       "      <td>3.464102</td>\n",
       "    </tr>\n",
       "    <tr>\n",
       "      <th>3</th>\n",
       "      <td>16622</td>\n",
       "      <td>0.0</td>\n",
       "      <td>0.0</td>\n",
       "      <td>0.0</td>\n",
       "      <td>0.0</td>\n",
       "      <td>0.0</td>\n",
       "      <td>0.0</td>\n",
       "      <td>0.0</td>\n",
       "      <td>0.0</td>\n",
       "      <td>0.0</td>\n",
       "      <td>0.0</td>\n",
       "      <td>20.0</td>\n",
       "      <td>0.0</td>\n",
       "      <td>20.0</td>\n",
       "      <td>1.666667</td>\n",
       "      <td>5.773503</td>\n",
       "      <td>3.464102</td>\n",
       "    </tr>\n",
       "    <tr>\n",
       "      <th>5</th>\n",
       "      <td>241</td>\n",
       "      <td>0.0</td>\n",
       "      <td>0.0</td>\n",
       "      <td>0.0</td>\n",
       "      <td>0.0</td>\n",
       "      <td>0.0</td>\n",
       "      <td>0.0</td>\n",
       "      <td>0.0</td>\n",
       "      <td>0.0</td>\n",
       "      <td>0.0</td>\n",
       "      <td>0.0</td>\n",
       "      <td>4.0</td>\n",
       "      <td>0.0</td>\n",
       "      <td>4.0</td>\n",
       "      <td>0.333333</td>\n",
       "      <td>1.154701</td>\n",
       "      <td>3.464102</td>\n",
       "    </tr>\n",
       "    <tr>\n",
       "      <th>6</th>\n",
       "      <td>3272</td>\n",
       "      <td>0.0</td>\n",
       "      <td>0.0</td>\n",
       "      <td>0.0</td>\n",
       "      <td>0.0</td>\n",
       "      <td>0.0</td>\n",
       "      <td>0.0</td>\n",
       "      <td>0.0</td>\n",
       "      <td>0.0</td>\n",
       "      <td>0.0</td>\n",
       "      <td>0.0</td>\n",
       "      <td>20.0</td>\n",
       "      <td>0.0</td>\n",
       "      <td>20.0</td>\n",
       "      <td>1.666667</td>\n",
       "      <td>5.773503</td>\n",
       "      <td>3.464102</td>\n",
       "    </tr>\n",
       "  </tbody>\n",
       "</table>\n",
       "</div>"
      ],
      "text/plain": [
       "МесяцПродажи КодНоменклатуры   m1   m2   m3   m4   m5   m6   m7   m8   m9  \\\n",
       "0                      14796  0.0  0.0  0.0  0.0  0.0  0.0  0.0  0.0  0.0   \n",
       "8                       4450  0.0  0.0  0.0  0.0  0.0  0.0  0.0  0.0  0.0   \n",
       "3                      16622  0.0  0.0  0.0  0.0  0.0  0.0  0.0  0.0  0.0   \n",
       "5                        241  0.0  0.0  0.0  0.0  0.0  0.0  0.0  0.0  0.0   \n",
       "6                       3272  0.0  0.0  0.0  0.0  0.0  0.0  0.0  0.0  0.0   \n",
       "\n",
       "МесяцПродажи  m10   m11  m12  total_demand  avg_demand  std_demand  cov_demand  \n",
       "0             0.0  15.0  0.0          15.0    1.250000    4.330127    3.464102  \n",
       "8             0.0  30.0  0.0          30.0    2.500000    8.660254    3.464102  \n",
       "3             0.0  20.0  0.0          20.0    1.666667    5.773503    3.464102  \n",
       "5             0.0   4.0  0.0           4.0    0.333333    1.154701    3.464102  \n",
       "6             0.0  20.0  0.0          20.0    1.666667    5.773503    3.464102  "
      ]
     },
     "execution_count": 24,
     "metadata": {},
     "output_type": "execute_result"
    }
   ],
   "source": [
    "df_12m_units.sort_values(by='cov_demand', ascending=False).head(5)"
   ]
  },
  {
   "cell_type": "code",
   "execution_count": 25,
   "metadata": {},
   "outputs": [
    {
     "data": {
      "text/html": [
       "<div>\n",
       "<style scoped>\n",
       "    .dataframe tbody tr th:only-of-type {\n",
       "        vertical-align: middle;\n",
       "    }\n",
       "\n",
       "    .dataframe tbody tr th {\n",
       "        vertical-align: top;\n",
       "    }\n",
       "\n",
       "    .dataframe thead th {\n",
       "        text-align: right;\n",
       "    }\n",
       "</style>\n",
       "<table border=\"1\" class=\"dataframe\">\n",
       "  <thead>\n",
       "    <tr style=\"text-align: right;\">\n",
       "      <th>МесяцПродажи</th>\n",
       "      <th>КодНоменклатуры</th>\n",
       "      <th>m1</th>\n",
       "      <th>m2</th>\n",
       "      <th>m3</th>\n",
       "      <th>m4</th>\n",
       "      <th>m5</th>\n",
       "      <th>m6</th>\n",
       "      <th>m7</th>\n",
       "      <th>m8</th>\n",
       "      <th>m9</th>\n",
       "      <th>m10</th>\n",
       "      <th>m11</th>\n",
       "      <th>m12</th>\n",
       "      <th>total_demand</th>\n",
       "      <th>avg_demand</th>\n",
       "      <th>std_demand</th>\n",
       "      <th>cov_demand</th>\n",
       "    </tr>\n",
       "  </thead>\n",
       "  <tbody>\n",
       "    <tr>\n",
       "      <th>4</th>\n",
       "      <td>1780</td>\n",
       "      <td>448.0</td>\n",
       "      <td>433.0</td>\n",
       "      <td>437.0</td>\n",
       "      <td>427.0</td>\n",
       "      <td>523.0</td>\n",
       "      <td>588.0</td>\n",
       "      <td>522.0</td>\n",
       "      <td>470.0</td>\n",
       "      <td>516.0</td>\n",
       "      <td>591.0</td>\n",
       "      <td>456.0</td>\n",
       "      <td>410.0</td>\n",
       "      <td>5821.0</td>\n",
       "      <td>485.083333</td>\n",
       "      <td>61.828882</td>\n",
       "      <td>0.127460</td>\n",
       "    </tr>\n",
       "    <tr>\n",
       "      <th>1</th>\n",
       "      <td>16069</td>\n",
       "      <td>60.0</td>\n",
       "      <td>57.0</td>\n",
       "      <td>52.0</td>\n",
       "      <td>47.0</td>\n",
       "      <td>54.0</td>\n",
       "      <td>65.0</td>\n",
       "      <td>76.0</td>\n",
       "      <td>77.0</td>\n",
       "      <td>93.0</td>\n",
       "      <td>87.0</td>\n",
       "      <td>83.0</td>\n",
       "      <td>72.0</td>\n",
       "      <td>823.0</td>\n",
       "      <td>68.583333</td>\n",
       "      <td>14.939017</td>\n",
       "      <td>0.217823</td>\n",
       "    </tr>\n",
       "    <tr>\n",
       "      <th>9</th>\n",
       "      <td>4534</td>\n",
       "      <td>102.0</td>\n",
       "      <td>88.0</td>\n",
       "      <td>86.0</td>\n",
       "      <td>77.0</td>\n",
       "      <td>110.0</td>\n",
       "      <td>109.0</td>\n",
       "      <td>127.0</td>\n",
       "      <td>160.0</td>\n",
       "      <td>153.0</td>\n",
       "      <td>200.0</td>\n",
       "      <td>142.0</td>\n",
       "      <td>151.0</td>\n",
       "      <td>1505.0</td>\n",
       "      <td>125.416667</td>\n",
       "      <td>36.686530</td>\n",
       "      <td>0.292517</td>\n",
       "    </tr>\n",
       "    <tr>\n",
       "      <th>2</th>\n",
       "      <td>16070</td>\n",
       "      <td>8.0</td>\n",
       "      <td>17.0</td>\n",
       "      <td>17.0</td>\n",
       "      <td>15.0</td>\n",
       "      <td>9.0</td>\n",
       "      <td>39.0</td>\n",
       "      <td>50.0</td>\n",
       "      <td>30.0</td>\n",
       "      <td>23.0</td>\n",
       "      <td>39.0</td>\n",
       "      <td>16.0</td>\n",
       "      <td>23.0</td>\n",
       "      <td>286.0</td>\n",
       "      <td>23.833333</td>\n",
       "      <td>13.099850</td>\n",
       "      <td>0.549644</td>\n",
       "    </tr>\n",
       "    <tr>\n",
       "      <th>3</th>\n",
       "      <td>16622</td>\n",
       "      <td>0.0</td>\n",
       "      <td>0.0</td>\n",
       "      <td>0.0</td>\n",
       "      <td>0.0</td>\n",
       "      <td>0.0</td>\n",
       "      <td>0.0</td>\n",
       "      <td>0.0</td>\n",
       "      <td>0.0</td>\n",
       "      <td>0.0</td>\n",
       "      <td>0.0</td>\n",
       "      <td>20.0</td>\n",
       "      <td>0.0</td>\n",
       "      <td>20.0</td>\n",
       "      <td>1.666667</td>\n",
       "      <td>5.773503</td>\n",
       "      <td>3.464102</td>\n",
       "    </tr>\n",
       "  </tbody>\n",
       "</table>\n",
       "</div>"
      ],
      "text/plain": [
       "МесяцПродажи КодНоменклатуры     m1     m2     m3     m4     m5     m6     m7  \\\n",
       "4                       1780  448.0  433.0  437.0  427.0  523.0  588.0  522.0   \n",
       "1                      16069   60.0   57.0   52.0   47.0   54.0   65.0   76.0   \n",
       "9                       4534  102.0   88.0   86.0   77.0  110.0  109.0  127.0   \n",
       "2                      16070    8.0   17.0   17.0   15.0    9.0   39.0   50.0   \n",
       "3                      16622    0.0    0.0    0.0    0.0    0.0    0.0    0.0   \n",
       "\n",
       "МесяцПродажи     m8     m9    m10    m11    m12  total_demand  avg_demand  \\\n",
       "4             470.0  516.0  591.0  456.0  410.0        5821.0  485.083333   \n",
       "1              77.0   93.0   87.0   83.0   72.0         823.0   68.583333   \n",
       "9             160.0  153.0  200.0  142.0  151.0        1505.0  125.416667   \n",
       "2              30.0   23.0   39.0   16.0   23.0         286.0   23.833333   \n",
       "3               0.0    0.0    0.0   20.0    0.0          20.0    1.666667   \n",
       "\n",
       "МесяцПродажи  std_demand  cov_demand  \n",
       "4              61.828882    0.127460  \n",
       "1              14.939017    0.217823  \n",
       "9              36.686530    0.292517  \n",
       "2              13.099850    0.549644  \n",
       "3               5.773503    3.464102  "
      ]
     },
     "execution_count": 25,
     "metadata": {},
     "output_type": "execute_result"
    }
   ],
   "source": [
    "df_12m_units.sort_values(by='cov_demand', ascending=True).head(5)"
   ]
  },
  {
   "cell_type": "code",
   "execution_count": 26,
   "metadata": {},
   "outputs": [
    {
     "name": "stdout",
     "output_type": "stream",
     "text": [
      "cov_demand_min: 0.12746032980539013\n",
      "cov_demand_mean: 2.197205410236985\n",
      "cov_demand_median: 3.4641016151377544\n",
      "cov_demand_max: 3.464101615137755\n"
     ]
    }
   ],
   "source": [
    "print('cov_demand_min:',df_12m_units['cov_demand'].min())\n",
    "print('cov_demand_mean:',df_12m_units['cov_demand'].mean())\n",
    "print('cov_demand_median:',df_12m_units['cov_demand'].median())\n",
    "print('cov_demand_max:',df_12m_units['cov_demand'].max())"
   ]
  },
  {
   "cell_type": "code",
   "execution_count": 27,
   "metadata": {},
   "outputs": [
    {
     "data": {
      "text/plain": [
       "(10, 10)"
      ]
     },
     "execution_count": 27,
     "metadata": {},
     "output_type": "execute_result"
    }
   ],
   "source": [
    "df['КодНоменклатуры'].nunique(),df_12m_units['КодНоменклатуры'].nunique()"
   ]
  },
  {
   "cell_type": "markdown",
   "metadata": {},
   "source": [
    "min(), mean(), и max() показывают, что самый низкий CV равен 0,127, самый высокий — 3,46, а общее среднее — 2,19. Медиана сильно приближена к max(). В то же время, изначальный и отфильтрованный датасет имеют лишь 10 уникальных продуктов. На основе имеющейся информации можно сделать вывод, что этот набор данных включает в себя больше половины  продуктов с колеблющимся или сезонным спросом."
   ]
  },
  {
   "cell_type": "code",
   "execution_count": 28,
   "metadata": {},
   "outputs": [
    {
     "data": {
      "image/png": "[encoded data removed]",
      "text/plain": [
       "<Figure size 432x288 with 1 Axes>"
      ]
     },
     "metadata": {
      "needs_background": "light"
     },
     "output_type": "display_data"
    }
   ],
   "source": [
    "f, ax = plt.subplots(figsize=(6, 4))\n",
    "ax = sns.histplot(df_12m_units['cov_demand']).set_title(\"Распределение коэффициента вариации\",fontsize=15)\n"
   ]
  },
  {
   "cell_type": "code",
   "execution_count": 29,
   "metadata": {},
   "outputs": [
    {
     "data": {
      "text/plain": [
       "Z    7\n",
       "Y    2\n",
       "X    1\n",
       "Name: xyz_class, dtype: int64"
      ]
     },
     "execution_count": 29,
     "metadata": {},
     "output_type": "execute_result"
    }
   ],
   "source": [
    "def xyz_classify_product(cov):\n",
    "    \"\"\"Применение XYZ классификации основанной на расчетном коэффициенте вариации количества\n",
    "    \"\"\"\n",
    "\n",
    "    if cov <= 0.2:\n",
    "        return 'X'\n",
    "    if cov > 0.2 and cov <= 0.5:\n",
    "        return 'Y'\n",
    "    else:\n",
    "        return 'Z'\n",
    "\n",
    "df_12m_units['xyz_class'] = df_12m_units['cov_demand'].apply(xyz_classify_product)\n",
    "df_12m_units.xyz_class.value_counts()\n"
   ]
  },
  {
   "cell_type": "code",
   "execution_count": 30,
   "metadata": {},
   "outputs": [
    {
     "data": {
      "text/html": [
       "<div>\n",
       "<style scoped>\n",
       "    .dataframe tbody tr th:only-of-type {\n",
       "        vertical-align: middle;\n",
       "    }\n",
       "\n",
       "    .dataframe tbody tr th {\n",
       "        vertical-align: top;\n",
       "    }\n",
       "\n",
       "    .dataframe thead th {\n",
       "        text-align: right;\n",
       "    }\n",
       "</style>\n",
       "<table border=\"1\" class=\"dataframe\">\n",
       "  <thead>\n",
       "    <tr style=\"text-align: right;\">\n",
       "      <th></th>\n",
       "      <th>m1</th>\n",
       "      <th>m2</th>\n",
       "      <th>m3</th>\n",
       "      <th>m4</th>\n",
       "      <th>m5</th>\n",
       "      <th>m6</th>\n",
       "      <th>m7</th>\n",
       "      <th>m8</th>\n",
       "      <th>m9</th>\n",
       "      <th>m10</th>\n",
       "      <th>m11</th>\n",
       "      <th>m12</th>\n",
       "    </tr>\n",
       "    <tr>\n",
       "      <th>xyz_class</th>\n",
       "      <th></th>\n",
       "      <th></th>\n",
       "      <th></th>\n",
       "      <th></th>\n",
       "      <th></th>\n",
       "      <th></th>\n",
       "      <th></th>\n",
       "      <th></th>\n",
       "      <th></th>\n",
       "      <th></th>\n",
       "      <th></th>\n",
       "      <th></th>\n",
       "    </tr>\n",
       "  </thead>\n",
       "  <tbody>\n",
       "    <tr>\n",
       "      <th>X</th>\n",
       "      <td>448.0</td>\n",
       "      <td>433.0</td>\n",
       "      <td>437.0</td>\n",
       "      <td>427.0</td>\n",
       "      <td>523.0</td>\n",
       "      <td>588.0</td>\n",
       "      <td>522.0</td>\n",
       "      <td>470.0</td>\n",
       "      <td>516.0</td>\n",
       "      <td>591.0</td>\n",
       "      <td>456.0</td>\n",
       "      <td>410.0</td>\n",
       "    </tr>\n",
       "    <tr>\n",
       "      <th>Y</th>\n",
       "      <td>162.0</td>\n",
       "      <td>145.0</td>\n",
       "      <td>138.0</td>\n",
       "      <td>124.0</td>\n",
       "      <td>164.0</td>\n",
       "      <td>174.0</td>\n",
       "      <td>203.0</td>\n",
       "      <td>237.0</td>\n",
       "      <td>246.0</td>\n",
       "      <td>287.0</td>\n",
       "      <td>225.0</td>\n",
       "      <td>223.0</td>\n",
       "    </tr>\n",
       "    <tr>\n",
       "      <th>Z</th>\n",
       "      <td>8.0</td>\n",
       "      <td>17.0</td>\n",
       "      <td>17.0</td>\n",
       "      <td>15.0</td>\n",
       "      <td>9.0</td>\n",
       "      <td>39.0</td>\n",
       "      <td>50.0</td>\n",
       "      <td>30.0</td>\n",
       "      <td>23.0</td>\n",
       "      <td>39.0</td>\n",
       "      <td>129.0</td>\n",
       "      <td>23.0</td>\n",
       "    </tr>\n",
       "  </tbody>\n",
       "</table>\n",
       "</div>"
      ],
      "text/plain": [
       "              m1     m2     m3     m4     m5     m6     m7     m8     m9  \\\n",
       "xyz_class                                                                  \n",
       "X          448.0  433.0  437.0  427.0  523.0  588.0  522.0  470.0  516.0   \n",
       "Y          162.0  145.0  138.0  124.0  164.0  174.0  203.0  237.0  246.0   \n",
       "Z            8.0   17.0   17.0   15.0    9.0   39.0   50.0   30.0   23.0   \n",
       "\n",
       "             m10    m11    m12  \n",
       "xyz_class                       \n",
       "X          591.0  456.0  410.0  \n",
       "Y          287.0  225.0  223.0  \n",
       "Z           39.0  129.0   23.0  "
      ]
     },
     "execution_count": 30,
     "metadata": {},
     "output_type": "execute_result"
    }
   ],
   "source": [
    "df_monthly = df_12m_units.groupby('xyz_class').agg(\n",
    "    m1=('m1', 'sum'),\n",
    "    m2=('m2', 'sum'),\n",
    "    m3=('m3', 'sum'),\n",
    "    m4=('m4', 'sum'),\n",
    "    m5=('m5', 'sum'),\n",
    "    m6=('m6', 'sum'),\n",
    "    m7=('m7', 'sum'),\n",
    "    m8=('m8', 'sum'),\n",
    "    m9=('m9', 'sum'),\n",
    "    m10=('m10', 'sum'),\n",
    "    m11=('m11', 'sum'),\n",
    "    m12=('m12', 'sum'))\n",
    "df_monthly"
   ]
  },
  {
   "cell_type": "markdown",
   "metadata": {},
   "source": [
    "Преобразуем в таблицу для графиков"
   ]
  },
  {
   "cell_type": "code",
   "execution_count": 32,
   "metadata": {},
   "outputs": [
    {
     "data": {
      "text/html": [
       "<div>\n",
       "<style scoped>\n",
       "    .dataframe tbody tr th:only-of-type {\n",
       "        vertical-align: middle;\n",
       "    }\n",
       "\n",
       "    .dataframe tbody tr th {\n",
       "        vertical-align: top;\n",
       "    }\n",
       "\n",
       "    .dataframe thead th {\n",
       "        text-align: right;\n",
       "    }\n",
       "</style>\n",
       "<table border=\"1\" class=\"dataframe\">\n",
       "  <thead>\n",
       "    <tr style=\"text-align: right;\">\n",
       "      <th></th>\n",
       "      <th>month</th>\n",
       "      <th>xyz_class</th>\n",
       "      <th>demand</th>\n",
       "    </tr>\n",
       "  </thead>\n",
       "  <tbody>\n",
       "    <tr>\n",
       "      <th>0</th>\n",
       "      <td>m1</td>\n",
       "      <td>X</td>\n",
       "      <td>448.0</td>\n",
       "    </tr>\n",
       "    <tr>\n",
       "      <th>1</th>\n",
       "      <td>m1</td>\n",
       "      <td>Y</td>\n",
       "      <td>162.0</td>\n",
       "    </tr>\n",
       "    <tr>\n",
       "      <th>2</th>\n",
       "      <td>m1</td>\n",
       "      <td>Z</td>\n",
       "      <td>8.0</td>\n",
       "    </tr>\n",
       "    <tr>\n",
       "      <th>3</th>\n",
       "      <td>m2</td>\n",
       "      <td>X</td>\n",
       "      <td>433.0</td>\n",
       "    </tr>\n",
       "    <tr>\n",
       "      <th>4</th>\n",
       "      <td>m2</td>\n",
       "      <td>Y</td>\n",
       "      <td>145.0</td>\n",
       "    </tr>\n",
       "  </tbody>\n",
       "</table>\n",
       "</div>"
      ],
      "text/plain": [
       "  month xyz_class  demand\n",
       "0    m1         X   448.0\n",
       "1    m1         Y   162.0\n",
       "2    m1         Z     8.0\n",
       "3    m2         X   433.0\n",
       "4    m2         Y   145.0"
      ]
     },
     "execution_count": 32,
     "metadata": {},
     "output_type": "execute_result"
    }
   ],
   "source": [
    "df_monthly_unstacked = df_monthly.unstack('xyz_class').to_frame()\n",
    "df_monthly_unstacked = df_monthly_unstacked.reset_index().rename(columns={'level_0': 'month', 0: 'demand'})\n",
    "df_monthly_unstacked.head()"
   ]
  },
  {
   "cell_type": "markdown",
   "metadata": {},
   "source": [
    "Покажем динамику изменения категорий по месяцам"
   ]
  },
  {
   "cell_type": "code",
   "execution_count": 33,
   "metadata": {},
   "outputs": [
    {
     "data": {
      "image/png": "[encoded data removed]",
      "text/plain": [
       "<Figure size 1080x432 with 1 Axes>"
      ]
     },
     "metadata": {
      "needs_background": "light"
     },
     "output_type": "display_data"
    }
   ],
   "source": [
    "f, ax = plt.subplots(figsize=(15, 6))\n",
    "ax = sns.barplot(x=\"month\", \n",
    "                 y=\"demand\", \n",
    "                 hue=\"xyz_class\", \n",
    "                 data=df_monthly_unstacked,\n",
    "                 palette=\"Blues_d\")\\\n",
    "                .set_title(\"XYZ demand by month\",fontsize=15)\n"
   ]
  },
  {
   "cell_type": "markdown",
   "metadata": {},
   "source": [
    "Спрос на товар Х класса высок и сезонален, спрос на товар Y класса ниже и возрастает только к пиковому месяцу продаж, как и в случае с товаром Z класса"
   ]
  },
  {
   "cell_type": "markdown",
   "metadata": {},
   "source": [
    "# ABC анализ"
   ]
  },
  {
   "cell_type": "code",
   "execution_count": 37,
   "metadata": {},
   "outputs": [
    {
     "data": {
      "text/plain": [
       "Index(['КодКонтрагента', 'КодНоменклатуры', 'МесяцПродажи', 'Количество',\n",
       "       'СтоимостьПродажиБезНДС'],\n",
       "      dtype='object')"
      ]
     },
     "execution_count": 37,
     "metadata": {},
     "output_type": "execute_result"
    }
   ],
   "source": [
    "df_12m.columns"
   ]
  },
  {
   "cell_type": "code",
   "execution_count": 41,
   "metadata": {},
   "outputs": [],
   "source": [
    "df_skus = df_12m.groupby('КодНоменклатуры').agg(\n",
    "    unique_purchases=('КодНоменклатуры', 'nunique'),\n",
    "    total_units=('Количество', 'sum'),\n",
    "    total_revenue=('СтоимостьПродажиБезНДС', 'sum'),\n",
    ").sort_values(by='total_revenue', ascending=False).reset_index()"
   ]
  },
  {
   "cell_type": "code",
   "execution_count": 44,
   "metadata": {},
   "outputs": [
    {
     "data": {
      "text/html": [
       "<div>\n",
       "<style scoped>\n",
       "    .dataframe tbody tr th:only-of-type {\n",
       "        vertical-align: middle;\n",
       "    }\n",
       "\n",
       "    .dataframe tbody tr th {\n",
       "        vertical-align: top;\n",
       "    }\n",
       "\n",
       "    .dataframe thead th {\n",
       "        text-align: right;\n",
       "    }\n",
       "</style>\n",
       "<table border=\"1\" class=\"dataframe\">\n",
       "  <thead>\n",
       "    <tr style=\"text-align: right;\">\n",
       "      <th></th>\n",
       "      <th>КодНоменклатуры</th>\n",
       "      <th>unique_purchases</th>\n",
       "      <th>total_units</th>\n",
       "      <th>total_revenue</th>\n",
       "      <th>revenue_cumsum</th>\n",
       "      <th>revenue_total</th>\n",
       "      <th>revenue_running_percentage</th>\n",
       "    </tr>\n",
       "  </thead>\n",
       "  <tbody>\n",
       "    <tr>\n",
       "      <th>0</th>\n",
       "      <td>1780</td>\n",
       "      <td>1</td>\n",
       "      <td>5821</td>\n",
       "      <td>2890586.15</td>\n",
       "      <td>2890586.15</td>\n",
       "      <td>3768423.03</td>\n",
       "      <td>76.705458</td>\n",
       "    </tr>\n",
       "    <tr>\n",
       "      <th>1</th>\n",
       "      <td>4534</td>\n",
       "      <td>1</td>\n",
       "      <td>1505</td>\n",
       "      <td>663951.74</td>\n",
       "      <td>3554537.89</td>\n",
       "      <td>3768423.03</td>\n",
       "      <td>94.324280</td>\n",
       "    </tr>\n",
       "    <tr>\n",
       "      <th>2</th>\n",
       "      <td>16069</td>\n",
       "      <td>1</td>\n",
       "      <td>823</td>\n",
       "      <td>79762.02</td>\n",
       "      <td>3634299.91</td>\n",
       "      <td>3768423.03</td>\n",
       "      <td>96.440869</td>\n",
       "    </tr>\n",
       "    <tr>\n",
       "      <th>...</th>\n",
       "      <td>...</td>\n",
       "      <td>...</td>\n",
       "      <td>...</td>\n",
       "      <td>...</td>\n",
       "      <td>...</td>\n",
       "      <td>...</td>\n",
       "      <td>...</td>\n",
       "    </tr>\n",
       "    <tr>\n",
       "      <th>7</th>\n",
       "      <td>241</td>\n",
       "      <td>1</td>\n",
       "      <td>4</td>\n",
       "      <td>13490.00</td>\n",
       "      <td>3754192.76</td>\n",
       "      <td>3768423.03</td>\n",
       "      <td>99.622381</td>\n",
       "    </tr>\n",
       "    <tr>\n",
       "      <th>8</th>\n",
       "      <td>3272</td>\n",
       "      <td>1</td>\n",
       "      <td>20</td>\n",
       "      <td>8676.67</td>\n",
       "      <td>3762869.43</td>\n",
       "      <td>3768423.03</td>\n",
       "      <td>99.852628</td>\n",
       "    </tr>\n",
       "    <tr>\n",
       "      <th>9</th>\n",
       "      <td>4449</td>\n",
       "      <td>1</td>\n",
       "      <td>24</td>\n",
       "      <td>5553.60</td>\n",
       "      <td>3768423.03</td>\n",
       "      <td>3768423.03</td>\n",
       "      <td>100.000000</td>\n",
       "    </tr>\n",
       "  </tbody>\n",
       "</table>\n",
       "<p>10 rows × 7 columns</p>\n",
       "</div>"
      ],
      "text/plain": [
       "   КодНоменклатуры  unique_purchases  total_units  total_revenue  \\\n",
       "0             1780                 1         5821     2890586.15   \n",
       "1             4534                 1         1505      663951.74   \n",
       "2            16069                 1          823       79762.02   \n",
       "..             ...               ...          ...            ...   \n",
       "7              241                 1            4       13490.00   \n",
       "8             3272                 1           20        8676.67   \n",
       "9             4449                 1           24        5553.60   \n",
       "\n",
       "    revenue_cumsum  revenue_total  revenue_running_percentage  \n",
       "0       2890586.15     3768423.03                   76.705458  \n",
       "1       3554537.89     3768423.03                   94.324280  \n",
       "2       3634299.91     3768423.03                   96.440869  \n",
       "..             ...            ...                         ...  \n",
       "7       3754192.76     3768423.03                   99.622381  \n",
       "8       3762869.43     3768423.03                   99.852628  \n",
       "9       3768423.03     3768423.03                  100.000000  \n",
       "\n",
       "[10 rows x 7 columns]"
      ]
     },
     "execution_count": 44,
     "metadata": {},
     "output_type": "execute_result"
    }
   ],
   "source": [
    "df_skus['revenue_cumsum'] = df_skus['total_revenue'].cumsum()\n",
    "df_skus['revenue_total'] = df_skus['total_revenue'].sum()\n",
    "df_skus['revenue_running_percentage'] = (df_skus['revenue_cumsum'] / df_skus['revenue_total']) * 100\n",
    "\n",
    "df_skus"
   ]
  },
  {
   "cell_type": "code",
   "execution_count": 48,
   "metadata": {},
   "outputs": [],
   "source": [
    "def abc_classify_product(percentage):\n",
    "    \"\"\"Применение ABC классификации основанной на расчетном коммулятивном доходе\n",
    "    по отсортированному коду номенклатуры в порядке убывания общего дохода\n",
    "    \"\"\"\n",
    "\n",
    "    if percentage > 0 and percentage <= 80:\n",
    "        return 'A'\n",
    "    if percentage > 80 and percentage <= 95:\n",
    "        return 'B'\n",
    "    else:\n",
    "        return 'C'\n"
   ]
  },
  {
   "cell_type": "code",
   "execution_count": 49,
   "metadata": {},
   "outputs": [
    {
     "data": {
      "text/html": [
       "<div>\n",
       "<style scoped>\n",
       "    .dataframe tbody tr th:only-of-type {\n",
       "        vertical-align: middle;\n",
       "    }\n",
       "\n",
       "    .dataframe tbody tr th {\n",
       "        vertical-align: top;\n",
       "    }\n",
       "\n",
       "    .dataframe thead th {\n",
       "        text-align: right;\n",
       "    }\n",
       "</style>\n",
       "<table border=\"1\" class=\"dataframe\">\n",
       "  <thead>\n",
       "    <tr style=\"text-align: right;\">\n",
       "      <th></th>\n",
       "      <th>КодНоменклатуры</th>\n",
       "      <th>unique_purchases</th>\n",
       "      <th>total_units</th>\n",
       "      <th>total_revenue</th>\n",
       "      <th>revenue_cumsum</th>\n",
       "      <th>revenue_total</th>\n",
       "      <th>revenue_running_percentage</th>\n",
       "      <th>abc_class</th>\n",
       "      <th>abc_rank</th>\n",
       "    </tr>\n",
       "  </thead>\n",
       "  <tbody>\n",
       "    <tr>\n",
       "      <th>0</th>\n",
       "      <td>1780</td>\n",
       "      <td>1</td>\n",
       "      <td>5821</td>\n",
       "      <td>2890586.15</td>\n",
       "      <td>2890586.15</td>\n",
       "      <td>3768423.03</td>\n",
       "      <td>76.705458</td>\n",
       "      <td>A</td>\n",
       "      <td>1</td>\n",
       "    </tr>\n",
       "    <tr>\n",
       "      <th>1</th>\n",
       "      <td>4534</td>\n",
       "      <td>1</td>\n",
       "      <td>1505</td>\n",
       "      <td>663951.74</td>\n",
       "      <td>3554537.89</td>\n",
       "      <td>3768423.03</td>\n",
       "      <td>94.324280</td>\n",
       "      <td>B</td>\n",
       "      <td>2</td>\n",
       "    </tr>\n",
       "    <tr>\n",
       "      <th>2</th>\n",
       "      <td>16069</td>\n",
       "      <td>1</td>\n",
       "      <td>823</td>\n",
       "      <td>79762.02</td>\n",
       "      <td>3634299.91</td>\n",
       "      <td>3768423.03</td>\n",
       "      <td>96.440869</td>\n",
       "      <td>C</td>\n",
       "      <td>3</td>\n",
       "    </tr>\n",
       "    <tr>\n",
       "      <th>...</th>\n",
       "      <td>...</td>\n",
       "      <td>...</td>\n",
       "      <td>...</td>\n",
       "      <td>...</td>\n",
       "      <td>...</td>\n",
       "      <td>...</td>\n",
       "      <td>...</td>\n",
       "      <td>...</td>\n",
       "      <td>...</td>\n",
       "    </tr>\n",
       "    <tr>\n",
       "      <th>7</th>\n",
       "      <td>241</td>\n",
       "      <td>1</td>\n",
       "      <td>4</td>\n",
       "      <td>13490.00</td>\n",
       "      <td>3754192.76</td>\n",
       "      <td>3768423.03</td>\n",
       "      <td>99.622381</td>\n",
       "      <td>C</td>\n",
       "      <td>8</td>\n",
       "    </tr>\n",
       "    <tr>\n",
       "      <th>8</th>\n",
       "      <td>3272</td>\n",
       "      <td>1</td>\n",
       "      <td>20</td>\n",
       "      <td>8676.67</td>\n",
       "      <td>3762869.43</td>\n",
       "      <td>3768423.03</td>\n",
       "      <td>99.852628</td>\n",
       "      <td>C</td>\n",
       "      <td>9</td>\n",
       "    </tr>\n",
       "    <tr>\n",
       "      <th>9</th>\n",
       "      <td>4449</td>\n",
       "      <td>1</td>\n",
       "      <td>24</td>\n",
       "      <td>5553.60</td>\n",
       "      <td>3768423.03</td>\n",
       "      <td>3768423.03</td>\n",
       "      <td>100.000000</td>\n",
       "      <td>C</td>\n",
       "      <td>10</td>\n",
       "    </tr>\n",
       "  </tbody>\n",
       "</table>\n",
       "<p>10 rows × 9 columns</p>\n",
       "</div>"
      ],
      "text/plain": [
       "   КодНоменклатуры  unique_purchases  total_units  total_revenue  \\\n",
       "0             1780                 1         5821     2890586.15   \n",
       "1             4534                 1         1505      663951.74   \n",
       "2            16069                 1          823       79762.02   \n",
       "..             ...               ...          ...            ...   \n",
       "7              241                 1            4       13490.00   \n",
       "8             3272                 1           20        8676.67   \n",
       "9             4449                 1           24        5553.60   \n",
       "\n",
       "    revenue_cumsum  revenue_total  revenue_running_percentage abc_class  \\\n",
       "0       2890586.15     3768423.03                   76.705458         A   \n",
       "1       3554537.89     3768423.03                   94.324280         B   \n",
       "2       3634299.91     3768423.03                   96.440869         C   \n",
       "..             ...            ...                         ...       ...   \n",
       "7       3754192.76     3768423.03                   99.622381         C   \n",
       "8       3762869.43     3768423.03                   99.852628         C   \n",
       "9       3768423.03     3768423.03                  100.000000         C   \n",
       "\n",
       "    abc_rank  \n",
       "0          1  \n",
       "1          2  \n",
       "2          3  \n",
       "..       ...  \n",
       "7          8  \n",
       "8          9  \n",
       "9         10  \n",
       "\n",
       "[10 rows x 9 columns]"
      ]
     },
     "execution_count": 49,
     "metadata": {},
     "output_type": "execute_result"
    }
   ],
   "source": [
    "df_skus['abc_class'] = df_skus['revenue_running_percentage'].apply(abc_classify_product)\n",
    "df_skus['abc_rank'] = df_skus['revenue_running_percentage'].rank().astype(int)\n",
    "df_skus"
   ]
  },
  {
   "cell_type": "code",
   "execution_count": 51,
   "metadata": {},
   "outputs": [
    {
     "data": {
      "text/html": [
       "<div>\n",
       "<style scoped>\n",
       "    .dataframe tbody tr th:only-of-type {\n",
       "        vertical-align: middle;\n",
       "    }\n",
       "\n",
       "    .dataframe tbody tr th {\n",
       "        vertical-align: top;\n",
       "    }\n",
       "\n",
       "    .dataframe thead th {\n",
       "        text-align: right;\n",
       "    }\n",
       "</style>\n",
       "<table border=\"1\" class=\"dataframe\">\n",
       "  <thead>\n",
       "    <tr style=\"text-align: right;\">\n",
       "      <th></th>\n",
       "      <th>abc_class</th>\n",
       "      <th>total_skus</th>\n",
       "      <th>total_units</th>\n",
       "      <th>total_revenue</th>\n",
       "    </tr>\n",
       "  </thead>\n",
       "  <tbody>\n",
       "    <tr>\n",
       "      <th>0</th>\n",
       "      <td>A</td>\n",
       "      <td>1</td>\n",
       "      <td>5821</td>\n",
       "      <td>2890586.15</td>\n",
       "    </tr>\n",
       "    <tr>\n",
       "      <th>1</th>\n",
       "      <td>B</td>\n",
       "      <td>1</td>\n",
       "      <td>1505</td>\n",
       "      <td>663951.74</td>\n",
       "    </tr>\n",
       "    <tr>\n",
       "      <th>2</th>\n",
       "      <td>C</td>\n",
       "      <td>8</td>\n",
       "      <td>1222</td>\n",
       "      <td>213885.14</td>\n",
       "    </tr>\n",
       "  </tbody>\n",
       "</table>\n",
       "</div>"
      ],
      "text/plain": [
       "  abc_class  total_skus  total_units  total_revenue\n",
       "0         A           1         5821     2890586.15\n",
       "1         B           1         1505      663951.74\n",
       "2         C           8         1222      213885.14"
      ]
     },
     "execution_count": 51,
     "metadata": {},
     "output_type": "execute_result"
    }
   ],
   "source": [
    "df_abc = df_skus.groupby('abc_class').agg(\n",
    "    total_skus=('КодНоменклатуры', 'nunique'),\n",
    "    total_units=('total_units', sum),\n",
    "    total_revenue=('total_revenue', sum),\n",
    ").reset_index()\n",
    "\n",
    "df_abc"
   ]
  },
  {
   "cell_type": "markdown",
   "metadata": {},
   "source": [
    "Если мы рассмотрим статистику каждого класса, то увидим, что у нас есть 1 номенклатура класса A, приносящая 80% нашего дохода. В классе B тоже 1 товар, который генерируют следующие 15%, а затем 8 номенклатур класса C, генерирующие оставшиеся 5% продаж."
   ]
  },
  {
   "cell_type": "code",
   "execution_count": 62,
   "metadata": {},
   "outputs": [
    {
     "data": {
      "text/plain": [
       "0.2585466414705377"
      ]
     },
     "execution_count": 62,
     "metadata": {},
     "output_type": "execute_result"
    }
   ],
   "source": [
    "1505/5821"
   ]
  },
  {
   "cell_type": "code",
   "execution_count": 64,
   "metadata": {},
   "outputs": [
    {
     "data": {
      "text/plain": [
       "0.22969425576682376"
      ]
     },
     "execution_count": 64,
     "metadata": {},
     "output_type": "execute_result"
    }
   ],
   "source": [
    "663951/2890586"
   ]
  },
  {
   "cell_type": "code",
   "execution_count": 56,
   "metadata": {},
   "outputs": [
    {
     "data": {
      "image/png": "[encoded data removed]",
      "text/plain": [
       "<Figure size 360x216 with 1 Axes>"
      ]
     },
     "metadata": {
      "needs_background": "light"
     },
     "output_type": "display_data"
    }
   ],
   "source": [
    "f, ax = plt.subplots(figsize=(5, 3))\n",
    "ax = sns.barplot(x=\"abc_class\", \n",
    "                 y=\"total_revenue\", \n",
    "                 data=df_abc,\n",
    "                 palette=\"Blues_d\")\\\n",
    "                .set_title(\"Revenue by ABC class\",fontsize=15)\n"
   ]
  },
  {
   "cell_type": "code",
   "execution_count": 60,
   "metadata": {},
   "outputs": [
    {
     "data": {
      "image/png": "[encoded data removed]",
      "text/plain": [
       "<Figure size 360x216 with 1 Axes>"
      ]
     },
     "metadata": {
      "needs_background": "light"
     },
     "output_type": "display_data"
    }
   ],
   "source": [
    "f, ax = plt.subplots(figsize=(5, 3))\n",
    "ax = sns.barplot(x=\"abc_class\", \n",
    "                 y=\"total_units\", \n",
    "                 data=df_abc,\n",
    "                 palette=\"Blues_d\")\\\n",
    "                .set_title(\"Units by ABC class\",fontsize=15)\n"
   ]
  },
  {
   "cell_type": "code",
   "execution_count": 61,
   "metadata": {},
   "outputs": [
    {
     "data": {
      "image/png": "[encoded data removed]",
      "text/plain": [
       "<Figure size 360x216 with 1 Axes>"
      ]
     },
     "metadata": {
      "needs_background": "light"
     },
     "output_type": "display_data"
    }
   ],
   "source": [
    "f, ax = plt.subplots(figsize=(5, 3))\n",
    "ax = sns.barplot(x=\"abc_class\", \n",
    "                 y=\"total_skus\", \n",
    "                 data=df_abc,\n",
    "                 palette=\"Blues_d\")\\\n",
    "                .set_title(\"Skus by ABC class\",fontsize=15)"
   ]
  },
  {
   "cell_type": "markdown",
   "metadata": {},
   "source": [
    "# Анализ запасов ABC-XYZ"
   ]
  },
  {
   "cell_type": "markdown",
   "metadata": {},
   "source": [
    "Последним шагом является объединение наших данных управления запасами XYZ с нашими данными управления запасами ABC. Выберем ключевые показатели, которые хотим сохранить из нашего анализа ABC, и создадим новый датасет, а затем присоединим его к данным анализа XYZ. "
   ]
  },
  {
   "cell_type": "code",
   "execution_count": 67,
   "metadata": {},
   "outputs": [
    {
     "data": {
      "text/plain": [
       "Index(['КодНоменклатуры', 'm1', 'm2', 'm3', 'm4', 'm5', 'm6', 'm7', 'm8', 'm9',\n",
       "       'm10', 'm11', 'm12', 'total_demand', 'avg_demand', 'std_demand',\n",
       "       'cov_demand', 'xyz_class'],\n",
       "      dtype='object', name='МесяцПродажи')"
      ]
     },
     "execution_count": 67,
     "metadata": {},
     "output_type": "execute_result"
    }
   ],
   "source": [
    "df_12m_units.columns"
   ]
  },
  {
   "cell_type": "code",
   "execution_count": 70,
   "metadata": {},
   "outputs": [
    {
     "data": {
      "text/html": [
       "<div>\n",
       "<style scoped>\n",
       "    .dataframe tbody tr th:only-of-type {\n",
       "        vertical-align: middle;\n",
       "    }\n",
       "\n",
       "    .dataframe tbody tr th {\n",
       "        vertical-align: top;\n",
       "    }\n",
       "\n",
       "    .dataframe thead th {\n",
       "        text-align: right;\n",
       "    }\n",
       "</style>\n",
       "<table border=\"1\" class=\"dataframe\">\n",
       "  <thead>\n",
       "    <tr style=\"text-align: right;\">\n",
       "      <th></th>\n",
       "      <th>КодНоменклатуры</th>\n",
       "      <th>abc_class</th>\n",
       "      <th>abc_rank</th>\n",
       "      <th>total_revenue</th>\n",
       "      <th>total_demand</th>\n",
       "      <th>avg_demand</th>\n",
       "      <th>std_demand</th>\n",
       "      <th>cov_demand</th>\n",
       "      <th>xyz_class</th>\n",
       "    </tr>\n",
       "  </thead>\n",
       "  <tbody>\n",
       "    <tr>\n",
       "      <th>0</th>\n",
       "      <td>1780</td>\n",
       "      <td>A</td>\n",
       "      <td>1</td>\n",
       "      <td>2890586.15</td>\n",
       "      <td>5821.0</td>\n",
       "      <td>485.083333</td>\n",
       "      <td>61.828882</td>\n",
       "      <td>0.127460</td>\n",
       "      <td>X</td>\n",
       "    </tr>\n",
       "    <tr>\n",
       "      <th>1</th>\n",
       "      <td>4534</td>\n",
       "      <td>B</td>\n",
       "      <td>2</td>\n",
       "      <td>663951.74</td>\n",
       "      <td>1505.0</td>\n",
       "      <td>125.416667</td>\n",
       "      <td>36.686530</td>\n",
       "      <td>0.292517</td>\n",
       "      <td>Y</td>\n",
       "    </tr>\n",
       "    <tr>\n",
       "      <th>2</th>\n",
       "      <td>16069</td>\n",
       "      <td>C</td>\n",
       "      <td>3</td>\n",
       "      <td>79762.02</td>\n",
       "      <td>823.0</td>\n",
       "      <td>68.583333</td>\n",
       "      <td>14.939017</td>\n",
       "      <td>0.217823</td>\n",
       "      <td>Y</td>\n",
       "    </tr>\n",
       "    <tr>\n",
       "      <th>3</th>\n",
       "      <td>4450</td>\n",
       "      <td>C</td>\n",
       "      <td>4</td>\n",
       "      <td>31159.00</td>\n",
       "      <td>30.0</td>\n",
       "      <td>2.500000</td>\n",
       "      <td>8.660254</td>\n",
       "      <td>3.464102</td>\n",
       "      <td>Z</td>\n",
       "    </tr>\n",
       "    <tr>\n",
       "      <th>4</th>\n",
       "      <td>16070</td>\n",
       "      <td>C</td>\n",
       "      <td>5</td>\n",
       "      <td>28998.85</td>\n",
       "      <td>286.0</td>\n",
       "      <td>23.833333</td>\n",
       "      <td>13.099850</td>\n",
       "      <td>0.549644</td>\n",
       "      <td>Z</td>\n",
       "    </tr>\n",
       "  </tbody>\n",
       "</table>\n",
       "</div>"
      ],
      "text/plain": [
       "  КодНоменклатуры abc_class  abc_rank  total_revenue  total_demand  \\\n",
       "0            1780         A         1     2890586.15        5821.0   \n",
       "1            4534         B         2      663951.74        1505.0   \n",
       "2           16069         C         3       79762.02         823.0   \n",
       "3            4450         C         4       31159.00          30.0   \n",
       "4           16070         C         5       28998.85         286.0   \n",
       "\n",
       "   avg_demand  std_demand  cov_demand xyz_class  \n",
       "0  485.083333   61.828882    0.127460         X  \n",
       "1  125.416667   36.686530    0.292517         Y  \n",
       "2   68.583333   14.939017    0.217823         Y  \n",
       "3    2.500000    8.660254    3.464102         Z  \n",
       "4   23.833333   13.099850    0.549644         Z  "
      ]
     },
     "execution_count": 70,
     "metadata": {},
     "output_type": "execute_result"
    }
   ],
   "source": [
    "df_abc = df_skus[['КодНоменклатуры','abc_class','abc_rank','total_revenue']]\n",
    "df_xyz = df_12m_units.copy()\n",
    "df_xyz = df_xyz[['КодНоменклатуры', 'total_demand', 'avg_demand', 'std_demand',\n",
    "       'cov_demand', 'xyz_class']]\n",
    "df_abc_xyz = df_abc.merge(df_xyz, on='КодНоменклатуры', how='left')\n",
    "df_abc_xyz.head()"
   ]
  },
  {
   "cell_type": "code",
   "execution_count": 71,
   "metadata": {},
   "outputs": [],
   "source": [
    "df_abc_xyz['abc_xyz_class'] = df_abc_xyz['abc_class'].astype(str) + df_abc_xyz['xyz_class'].astype(str)"
   ]
  },
  {
   "cell_type": "code",
   "execution_count": 73,
   "metadata": {},
   "outputs": [
    {
     "data": {
      "text/html": [
       "<div>\n",
       "<style scoped>\n",
       "    .dataframe tbody tr th:only-of-type {\n",
       "        vertical-align: middle;\n",
       "    }\n",
       "\n",
       "    .dataframe tbody tr th {\n",
       "        vertical-align: top;\n",
       "    }\n",
       "\n",
       "    .dataframe thead th {\n",
       "        text-align: right;\n",
       "    }\n",
       "</style>\n",
       "<table border=\"1\" class=\"dataframe\">\n",
       "  <thead>\n",
       "    <tr style=\"text-align: right;\">\n",
       "      <th></th>\n",
       "      <th>abc_xyz_class</th>\n",
       "      <th>total_skus</th>\n",
       "      <th>total_demand</th>\n",
       "      <th>avg_demand</th>\n",
       "      <th>total_revenue</th>\n",
       "    </tr>\n",
       "  </thead>\n",
       "  <tbody>\n",
       "    <tr>\n",
       "      <th>0</th>\n",
       "      <td>AX</td>\n",
       "      <td>1</td>\n",
       "      <td>5821.0</td>\n",
       "      <td>485.083333</td>\n",
       "      <td>2890586.15</td>\n",
       "    </tr>\n",
       "    <tr>\n",
       "      <th>1</th>\n",
       "      <td>BY</td>\n",
       "      <td>1</td>\n",
       "      <td>1505.0</td>\n",
       "      <td>125.416667</td>\n",
       "      <td>663951.74</td>\n",
       "    </tr>\n",
       "    <tr>\n",
       "      <th>3</th>\n",
       "      <td>CZ</td>\n",
       "      <td>7</td>\n",
       "      <td>399.0</td>\n",
       "      <td>4.750000</td>\n",
       "      <td>134123.12</td>\n",
       "    </tr>\n",
       "    <tr>\n",
       "      <th>2</th>\n",
       "      <td>CY</td>\n",
       "      <td>1</td>\n",
       "      <td>823.0</td>\n",
       "      <td>68.583333</td>\n",
       "      <td>79762.02</td>\n",
       "    </tr>\n",
       "  </tbody>\n",
       "</table>\n",
       "</div>"
      ],
      "text/plain": [
       "  abc_xyz_class  total_skus  total_demand  avg_demand  total_revenue\n",
       "0            AX           1        5821.0  485.083333     2890586.15\n",
       "1            BY           1        1505.0  125.416667      663951.74\n",
       "3            CZ           7         399.0    4.750000      134123.12\n",
       "2            CY           1         823.0   68.583333       79762.02"
      ]
     },
     "execution_count": 73,
     "metadata": {},
     "output_type": "execute_result"
    }
   ],
   "source": [
    "df_abc_xyz_summary = df_abc_xyz.groupby('abc_xyz_class').agg(\n",
    "    total_skus=('КодНоменклатуры', 'nunique'),\n",
    "    total_demand=('total_demand', sum),\n",
    "    avg_demand=('avg_demand', 'mean'),    \n",
    "    total_revenue=('total_revenue', sum),    \n",
    ").reset_index()\n",
    "\n",
    "df_abc_xyz_summary.sort_values(by='total_revenue', ascending=False)"
   ]
  },
  {
   "cell_type": "markdown",
   "metadata": {},
   "source": [
    "Построим график"
   ]
  },
  {
   "cell_type": "code",
   "execution_count": 74,
   "metadata": {},
   "outputs": [
    {
     "data": {
      "image/png": "[encoded data removed]",
      "text/plain": [
       "<Figure size 1080x432 with 1 Axes>"
      ]
     },
     "metadata": {
      "needs_background": "light"
     },
     "output_type": "display_data"
    }
   ],
   "source": [
    "f, ax = plt.subplots(figsize=(15, 6))\n",
    "ax = sns.barplot(x=\"abc_xyz_class\", \n",
    "                 y=\"total_skus\", \n",
    "                 data=df_abc_xyz_summary,\n",
    "                 palette=\"Blues_d\")\\\n",
    "                .set_title(\"SKUs by ABC-XYZ class\",fontsize=15)\n"
   ]
  },
  {
   "cell_type": "code",
   "execution_count": 75,
   "metadata": {},
   "outputs": [
    {
     "data": {
      "image/png": "[encoded data removed]",
      "text/plain": [
       "<Figure size 1080x432 with 1 Axes>"
      ]
     },
     "metadata": {
      "needs_background": "light"
     },
     "output_type": "display_data"
    }
   ],
   "source": [
    "f, ax = plt.subplots(figsize=(15, 6))\n",
    "ax = sns.barplot(x=\"abc_xyz_class\", \n",
    "                 y=\"total_revenue\", \n",
    "                 data=df_abc_xyz_summary, \n",
    "                 palette=\"Blues_d\")\\\n",
    "                .set_title(\"Revenue by ABC-XYZ class\",fontsize=15)\n"
   ]
  },
  {
   "cell_type": "code",
   "execution_count": 76,
   "metadata": {},
   "outputs": [
    {
     "data": {
      "image/png": "[encoded data removed]",
      "text/plain": [
       "<Figure size 1080x432 with 1 Axes>"
      ]
     },
     "metadata": {
      "needs_background": "light"
     },
     "output_type": "display_data"
    }
   ],
   "source": [
    "f, ax = plt.subplots(figsize=(15, 6))\n",
    "ax = sns.barplot(x=\"abc_xyz_class\", \n",
    "                 y=\"total_demand\", \n",
    "                 data=df_abc_xyz_summary, \n",
    "                 palette=\"Blues_d\")\\\n",
    "                .set_title(\"Demand by ABC-XYZ class\",fontsize=15)\n"
   ]
  },
  {
   "cell_type": "markdown",
   "metadata": {},
   "source": [
    " Большая часть нашего дохода поступает от продуктов класса AX. Они приносят 80% дохода, но также являются сезонными. Внизу у нас есть небольшая группа SKU класса B, которые вносят небольшой вклад, но, с другой стороны, не очень изменчивы, поэтому их легче предсказать. Возможно, стоит уделить внимание повышению категории В товара в категорию А  акцентируясь на продажах и спросе. Также стоит просегментировать клиентов категории С для расширения ассортимента В категории"
   ]
  },
  {
   "cell_type": "markdown",
   "metadata": {},
   "source": [
    "### Понимание классов ABC-XYZ"
   ]
  },
  {
   "cell_type": "markdown",
   "metadata": {},
   "source": [
    "Комбинируя данные ABC и XYZ, мы создаем девять различных классов. Все классы с префиксом A приносят высокий доход, классы B приносят средний доход, а классы C приносят низкий доход.\n",
    "\n",
    "Точно также классы X имеют устойчивый спрос, их легко прогнозировать и ими легко управлять. Классы Y имеют переменный, но предсказуемый спрос, поэтому ими сложнее управлять, чем классами X.И Z-классы самые жесткие из всех. Они непрогнозиуремы и в разных объемах, поэтому ими сложнее управлять. "
   ]
  },
  {
   "cell_type": "raw",
   "metadata": {},
   "source": [
    "https://practicaldatascience.co.uk/data-science/how-to-create-an-abc-xyz-inventory-classification-model"
   ]
  }
 ],
 "metadata": {
  "kernelspec": {
   "display_name": "Python 3",
   "language": "python",
   "name": "python3"
  },
  "language_info": {
   "codemirror_mode": {
    "name": "ipython",
    "version": 3
   },
   "file_extension": ".py",
   "mimetype": "text/x-python",
   "name": "python",
   "nbconvert_exporter": "python",
   "pygments_lexer": "ipython3",
   "version": "3.8.10"
  }
 },
 "nbformat": 4,
 "nbformat_minor": 4
}
