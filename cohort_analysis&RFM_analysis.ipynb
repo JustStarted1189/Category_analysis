{
 "cells": [
  {
   "cell_type": "markdown",
   "metadata": {},
   "source": [
    "На выходе нас интересуют следующие данные:\n",
    "\n",
    "☑ ABC / XYZ - анализ товарной номенклатуры и клиентской базы\n",
    "\n",
    "☑ Когортный анализ клиентов\n",
    "\n",
    "☑ Сформулированные выводы и предложения по сегментированию базы и товарной номенклатуры"
   ]
  },
  {
   "cell_type": "markdown",
   "metadata": {},
   "source": [
    "## Когортный анализ"
   ]
  },
  {
   "cell_type": "code",
   "execution_count": 1,
   "metadata": {},
   "outputs": [],
   "source": [
    "import pandas as pd\n",
    "from sklearn import preprocessing\n",
    "from datetime import datetime\n",
    "import matplotlib.pyplot as plt # graphs\n",
    "import seaborn as sns\n",
    "import numpy as np\n",
    "\n",
    "pd.set_option('display.max_rows',6)"
   ]
  },
  {
   "cell_type": "markdown",
   "metadata": {},
   "source": [
    "with pd.option_context('display.max_rows', None):\n",
    "    print(df.groupby(['РегионКонтрагента'])['Количество'].sum())"
   ]
  },
  {
   "cell_type": "code",
   "execution_count": 2,
   "metadata": {},
   "outputs": [
    {
     "name": "stderr",
     "output_type": "stream",
     "text": [
      "<ipython-input-2-687eac060312>:1: FutureWarning: In a future version, the Index constructor will not infer numeric dtypes when passed object-dtype sequences (matching Series behavior)\n",
      "  df = pd.read_excel('~/Documents/IM_Sales.xlsx',\n"
     ]
    }
   ],
   "source": [
    "df = pd.read_excel('~/Documents/IM_Sales.xlsx',\n",
    "                   dtype={'КодКонтрагента':'category',\n",
    "                          'ТипКонтрагента':'category',\n",
    "                          'РегионКонтрагента':'category',\n",
    "                          'ДатаПродажи':str,\n",
    "                          'Ответственный':'category',\n",
    "                          'КодНоменклатуры':'category',\n",
    "                          'НомерПродажи':'category'\n",
    "                         })"
   ]
  },
  {
   "cell_type": "code",
   "execution_count": 3,
   "metadata": {},
   "outputs": [],
   "source": [
    "df = df.drop_duplicates()\n",
    "df.drop(\n",
    "    columns=['ИННКонтрагента','Контрагент','Номенклатура','СтоимостьПродажиСНДС','НДС',\\\n",
    "             'СебестоимостьИлиСтоимостьПоПрайсу','РасчетнаяПрибыль'], inplace = True)"
   ]
  },
  {
   "cell_type": "code",
   "execution_count": 4,
   "metadata": {},
   "outputs": [],
   "source": [
    "#fill numeric cols with 0\n",
    "numeric_columns = df.select_dtypes(include=['number']).columns\n",
    "df[numeric_columns] = df[numeric_columns].fillna(0)\n",
    "\n",
    "#fill object cols with null\n",
    "string_columns = df.select_dtypes(include=['object']).columns\n",
    "df[string_columns] = df[string_columns].fillna('null')"
   ]
  },
  {
   "cell_type": "code",
   "execution_count": 5,
   "metadata": {},
   "outputs": [
    {
     "name": "stdout",
     "output_type": "stream",
     "text": [
      "<class 'pandas.core.frame.DataFrame'>\n",
      "Int64Index: 8441 entries, 0 to 8440\n",
      "Data columns (total 9 columns):\n",
      " #   Column                  Non-Null Count  Dtype   \n",
      "---  ------                  --------------  -----   \n",
      " 0   КодКонтрагента          8441 non-null   category\n",
      " 1   ТипКонтрагента          8441 non-null   category\n",
      " 2   РегионКонтрагента       8309 non-null   category\n",
      " 3   ДатаПродажи             8441 non-null   object  \n",
      " 4   НомерПродажи            8441 non-null   category\n",
      " 5   Ответственный           8418 non-null   category\n",
      " 6   КодНоменклатуры         8441 non-null   category\n",
      " 7   Количество              8441 non-null   int64   \n",
      " 8   СтоимостьПродажиБезНДС  8441 non-null   float64 \n",
      "dtypes: category(6), float64(1), int64(1), object(1)\n",
      "memory usage: 812.1+ KB\n"
     ]
    }
   ],
   "source": [
    "df.info()"
   ]
  },
  {
   "cell_type": "markdown",
   "metadata": {},
   "source": [
    "Меняем форматы"
   ]
  },
  {
   "cell_type": "code",
   "execution_count": 6,
   "metadata": {},
   "outputs": [],
   "source": [
    "df['ДатаПродажи'] = pd.to_datetime(df['ДатаПродажи'])"
   ]
  },
  {
   "cell_type": "code",
   "execution_count": 7,
   "metadata": {},
   "outputs": [
    {
     "data": {
      "text/plain": [
       "0"
      ]
     },
     "execution_count": 7,
     "metadata": {},
     "output_type": "execute_result"
    }
   ],
   "source": [
    "#Возвраты не обнаруживаем\n",
    "df[df['Количество']<0].count().sum()"
   ]
  },
  {
   "cell_type": "code",
   "execution_count": 8,
   "metadata": {},
   "outputs": [],
   "source": [
    "#Заполняем категориальне пропуски\n",
    "df['РегионКонтрагента'].fillna(df['РегионКонтрагента'].mode()[0], inplace=True)\n",
    "df['Ответственный'].fillna(df['Ответственный'].mode()[0], inplace=True)"
   ]
  },
  {
   "cell_type": "code",
   "execution_count": 9,
   "metadata": {},
   "outputs": [
    {
     "data": {
      "text/plain": [
       "0"
      ]
     },
     "execution_count": 9,
     "metadata": {},
     "output_type": "execute_result"
    }
   ],
   "source": [
    "df.isna().sum().sum()"
   ]
  },
  {
   "cell_type": "markdown",
   "metadata": {},
   "source": [
    "Визуально ознакомимся с основными закономерностями датасета "
   ]
  },
  {
   "cell_type": "code",
   "execution_count": 10,
   "metadata": {},
   "outputs": [],
   "source": [
    "df_graph = df[['ДатаПродажи','Количество']].copy()\n",
    "df_graph['ГодПродажи'] = pd.DatetimeIndex(df['ДатаПродажи']).year\n",
    "df_graph['МесяцПродажи'] = pd.DatetimeIndex(df['ДатаПродажи']).month\n",
    "df_graph['ДеньПродажи'] = pd.DatetimeIndex(df['ДатаПродажи']).day"
   ]
  },
  {
   "cell_type": "code",
   "execution_count": 11,
   "metadata": {},
   "outputs": [],
   "source": [
    "df_graph = df_graph.groupby(['ГодПродажи','МесяцПродажи','ДеньПродажи'])['Количество'].sum().reset_index()"
   ]
  },
  {
   "cell_type": "code",
   "execution_count": 12,
   "metadata": {},
   "outputs": [
    {
     "data": {
      "text/html": [
       "<div>\n",
       "<style scoped>\n",
       "    .dataframe tbody tr th:only-of-type {\n",
       "        vertical-align: middle;\n",
       "    }\n",
       "\n",
       "    .dataframe tbody tr th {\n",
       "        vertical-align: top;\n",
       "    }\n",
       "\n",
       "    .dataframe thead th {\n",
       "        text-align: right;\n",
       "    }\n",
       "</style>\n",
       "<table border=\"1\" class=\"dataframe\">\n",
       "  <thead>\n",
       "    <tr style=\"text-align: right;\">\n",
       "      <th></th>\n",
       "      <th>ГодПродажи</th>\n",
       "      <th>МесяцПродажи</th>\n",
       "      <th>ДеньПродажи</th>\n",
       "      <th>Количество</th>\n",
       "    </tr>\n",
       "  </thead>\n",
       "  <tbody>\n",
       "    <tr>\n",
       "      <th>0</th>\n",
       "      <td>2020</td>\n",
       "      <td>1</td>\n",
       "      <td>6</td>\n",
       "      <td>20</td>\n",
       "    </tr>\n",
       "    <tr>\n",
       "      <th>1</th>\n",
       "      <td>2020</td>\n",
       "      <td>1</td>\n",
       "      <td>9</td>\n",
       "      <td>25</td>\n",
       "    </tr>\n",
       "    <tr>\n",
       "      <th>2</th>\n",
       "      <td>2020</td>\n",
       "      <td>1</td>\n",
       "      <td>10</td>\n",
       "      <td>21</td>\n",
       "    </tr>\n",
       "    <tr>\n",
       "      <th>...</th>\n",
       "      <td>...</td>\n",
       "      <td>...</td>\n",
       "      <td>...</td>\n",
       "      <td>...</td>\n",
       "    </tr>\n",
       "    <tr>\n",
       "      <th>727</th>\n",
       "      <td>2023</td>\n",
       "      <td>10</td>\n",
       "      <td>1</td>\n",
       "      <td>5</td>\n",
       "    </tr>\n",
       "    <tr>\n",
       "      <th>728</th>\n",
       "      <td>2023</td>\n",
       "      <td>11</td>\n",
       "      <td>1</td>\n",
       "      <td>3</td>\n",
       "    </tr>\n",
       "    <tr>\n",
       "      <th>729</th>\n",
       "      <td>2023</td>\n",
       "      <td>12</td>\n",
       "      <td>1</td>\n",
       "      <td>2</td>\n",
       "    </tr>\n",
       "  </tbody>\n",
       "</table>\n",
       "<p>730 rows × 4 columns</p>\n",
       "</div>"
      ],
      "text/plain": [
       "     ГодПродажи  МесяцПродажи  ДеньПродажи  Количество\n",
       "0          2020             1            6          20\n",
       "1          2020             1            9          25\n",
       "2          2020             1           10          21\n",
       "..          ...           ...          ...         ...\n",
       "727        2023            10            1           5\n",
       "728        2023            11            1           3\n",
       "729        2023            12            1           2\n",
       "\n",
       "[730 rows x 4 columns]"
      ]
     },
     "execution_count": 12,
     "metadata": {},
     "output_type": "execute_result"
    }
   ],
   "source": [
    "df_graph"
   ]
  },
  {
   "cell_type": "code",
   "execution_count": 13,
   "metadata": {},
   "outputs": [
    {
     "data": {
      "image/png": "[encoded data removed]",
      "text/plain": [
       "<Figure size 975.25x360 with 1 Axes>"
      ]
     },
     "metadata": {
      "needs_background": "light"
     },
     "output_type": "display_data"
    }
   ],
   "source": [
    "p = sns.relplot(kind='line', data=df_graph, \n",
    "                x=df_graph['МесяцПродажи'], y=df_graph['Количество'], hue=df_graph['ГодПродажи'],\n",
    "                aspect=2.5, marker='o')"
   ]
  },
  {
   "cell_type": "markdown",
   "metadata": {},
   "source": [
    "Часть 0. Когортный анализ"
   ]
  },
  {
   "cell_type": "code",
   "execution_count": 14,
   "metadata": {},
   "outputs": [],
   "source": [
    "import warnings\n",
    "from operator import attrgetter\n",
    "import matplotlib.colors as mcolors"
   ]
  },
  {
   "cell_type": "markdown",
   "metadata": {},
   "source": [
    "Создаем копию модели"
   ]
  },
  {
   "cell_type": "markdown",
   "metadata": {},
   "source": [
    "Рассчитываем совокупный показатель, показывающий, сколько покупок было совершено каждым клиентом"
   ]
  },
  {
   "cell_type": "code",
   "execution_count": 15,
   "metadata": {},
   "outputs": [],
   "source": [
    "train_df = df.copy()   #df['КодНоменклатуры'] == '1780']\n",
    "#train_df.drop(columns=['КодНоменклатуры'], inplace = True)"
   ]
  },
  {
   "cell_type": "code",
   "execution_count": 16,
   "metadata": {},
   "outputs": [
    {
     "name": "stdout",
     "output_type": "stream",
     "text": [
      "21.56% контрагентов купили больше одного раза\n"
     ]
    }
   ],
   "source": [
    "n_sales = train_df.groupby(['КодКонтрагента'])['ДатаПродажи'].nunique()\n",
    "mult_sales_perc = np.sum(n_sales > 1) / df['КодКонтрагента'].nunique()\n",
    "print(f'{100 * mult_sales_perc:.2f}% контрагентов купили больше одного раза')"
   ]
  },
  {
   "cell_type": "markdown",
   "metadata": {},
   "source": [
    "Построим график распределения покупок по контрагентам"
   ]
  },
  {
   "cell_type": "code",
   "execution_count": 17,
   "metadata": {},
   "outputs": [
    {
     "data": {
      "image/png": "[encoded data removed]",
      "text/plain": [
       "<Figure size 432x288 with 1 Axes>"
      ]
     },
     "metadata": {
      "needs_background": "light"
     },
     "output_type": "display_data"
    }
   ],
   "source": [
    "ax = sns.histplot(n_sales, kde=False)\n",
    "ax.set(title='Распределение покупок по контрагентам',\n",
    "       xlabel='Покупки', \n",
    "       ylabel='Контрагенты');"
   ]
  },
  {
   "cell_type": "code",
   "execution_count": 18,
   "metadata": {},
   "outputs": [
    {
     "data": {
      "text/plain": [
       "КодКонтрагента\n",
       "05974    29\n",
       "09601    19\n",
       "10018    19\n",
       "         ..\n",
       "35386    17\n",
       "39922    17\n",
       "40283    26\n",
       "Name: ДатаПродажи, Length: 19, dtype: int64"
      ]
     },
     "execution_count": 18,
     "metadata": {},
     "output_type": "execute_result"
    }
   ],
   "source": [
    "n_sales[n_sales>15]"
   ]
  },
  {
   "cell_type": "markdown",
   "metadata": {},
   "source": [
    "Находим выброс по контрагенту 11921 и удаляем из датасета "
   ]
  },
  {
   "cell_type": "code",
   "execution_count": 19,
   "metadata": {},
   "outputs": [],
   "source": [
    "train_df = train_df[train_df['КодКонтрагента']!='11921'] #"
   ]
  },
  {
   "cell_type": "code",
   "execution_count": 20,
   "metadata": {},
   "outputs": [
    {
     "name": "stdout",
     "output_type": "stream",
     "text": [
      "21.54% контрагентов купили больше раза\n"
     ]
    },
    {
     "data": {
      "text/plain": [
       "[Text(0.5, 1.0, 'Распределение покупок по контрагентам'),\n",
       " Text(0.5, 0, 'Покупки'),\n",
       " Text(0, 0.5, 'Контрагенты')]"
      ]
     },
     "execution_count": 20,
     "metadata": {},
     "output_type": "execute_result"
    },
    {
     "data": {
      "image/png": "[encoded data removed]",
      "text/plain": [
       "<Figure size 432x288 with 1 Axes>"
      ]
     },
     "metadata": {
      "needs_background": "light"
     },
     "output_type": "display_data"
    }
   ],
   "source": [
    "n_sales = train_df.groupby(['КодКонтрагента'])['ДатаПродажи'].nunique()\n",
    "mult_sales_perc = np.sum(n_sales > 1) / df['КодКонтрагента'].nunique()\n",
    "print(f'{100 * mult_sales_perc:.2f}% контрагентов купили больше раза')\n",
    "ax = sns.histplot(n_sales, kde=False)\n",
    "ax.set(title='Распределение покупок по контрагентам',\n",
    "       xlabel='Покупки', \n",
    "       ylabel='Контрагенты')"
   ]
  },
  {
   "cell_type": "markdown",
   "metadata": {},
   "source": [
    "Датасет не содержит дату регистрации клиента, поэтому предполагаем: первая когорта - дата первой покупки. "
   ]
  },
  {
   "cell_type": "code",
   "execution_count": 21,
   "metadata": {},
   "outputs": [],
   "source": [
    "train_df['order_month'] = train_df['ДатаПродажи'].dt.to_period('M')\n",
    "train_df['cohort'] = train_df.groupby('КодКонтрагента')['ДатаПродажи'] \\\n",
    "                 .transform('min') \\\n",
    "                 .dt.to_period('M') "
   ]
  },
  {
   "cell_type": "code",
   "execution_count": 22,
   "metadata": {},
   "outputs": [
    {
     "data": {
      "text/html": [
       "<div>\n",
       "<style scoped>\n",
       "    .dataframe tbody tr th:only-of-type {\n",
       "        vertical-align: middle;\n",
       "    }\n",
       "\n",
       "    .dataframe tbody tr th {\n",
       "        vertical-align: top;\n",
       "    }\n",
       "\n",
       "    .dataframe thead th {\n",
       "        text-align: right;\n",
       "    }\n",
       "</style>\n",
       "<table border=\"1\" class=\"dataframe\">\n",
       "  <thead>\n",
       "    <tr style=\"text-align: right;\">\n",
       "      <th></th>\n",
       "      <th>КодКонтрагента</th>\n",
       "      <th>ТипКонтрагента</th>\n",
       "      <th>РегионКонтрагента</th>\n",
       "      <th>ДатаПродажи</th>\n",
       "      <th>НомерПродажи</th>\n",
       "      <th>Ответственный</th>\n",
       "      <th>КодНоменклатуры</th>\n",
       "      <th>Количество</th>\n",
       "      <th>СтоимостьПродажиБезНДС</th>\n",
       "      <th>order_month</th>\n",
       "      <th>cohort</th>\n",
       "    </tr>\n",
       "  </thead>\n",
       "  <tbody>\n",
       "    <tr>\n",
       "      <th>6</th>\n",
       "      <td>16099</td>\n",
       "      <td>Коммерческие, торговые компании</td>\n",
       "      <td>Новосибирская обл</td>\n",
       "      <td>2020-03-02 11:37:17</td>\n",
       "      <td>СТ000000603</td>\n",
       "      <td>Куценко Максим Владимирович</td>\n",
       "      <td>1780</td>\n",
       "      <td>1</td>\n",
       "      <td>791.67</td>\n",
       "      <td>2020-03</td>\n",
       "      <td>2020-03</td>\n",
       "    </tr>\n",
       "    <tr>\n",
       "      <th>7</th>\n",
       "      <td>28423</td>\n",
       "      <td>Коммерческие, торговые компании</td>\n",
       "      <td>Москва г</td>\n",
       "      <td>2020-03-02 11:47:27</td>\n",
       "      <td>СТ000000543</td>\n",
       "      <td>Миронович Игорь Николаевич</td>\n",
       "      <td>4534</td>\n",
       "      <td>1</td>\n",
       "      <td>1000.00</td>\n",
       "      <td>2020-03</td>\n",
       "      <td>2020-03</td>\n",
       "    </tr>\n",
       "    <tr>\n",
       "      <th>8</th>\n",
       "      <td>29823</td>\n",
       "      <td>Физические лица</td>\n",
       "      <td>Московская обл</td>\n",
       "      <td>2020-03-02 12:29:01</td>\n",
       "      <td>ПЛ000000241</td>\n",
       "      <td>Куценко Максим Владимирович</td>\n",
       "      <td>1780</td>\n",
       "      <td>1</td>\n",
       "      <td>400.00</td>\n",
       "      <td>2020-03</td>\n",
       "      <td>2020-03</td>\n",
       "    </tr>\n",
       "    <tr>\n",
       "      <th>...</th>\n",
       "      <td>...</td>\n",
       "      <td>...</td>\n",
       "      <td>...</td>\n",
       "      <td>...</td>\n",
       "      <td>...</td>\n",
       "      <td>...</td>\n",
       "      <td>...</td>\n",
       "      <td>...</td>\n",
       "      <td>...</td>\n",
       "      <td>...</td>\n",
       "      <td>...</td>\n",
       "    </tr>\n",
       "    <tr>\n",
       "      <th>8438</th>\n",
       "      <td>28650</td>\n",
       "      <td>Коммерческие, торговые компании</td>\n",
       "      <td>Московская обл</td>\n",
       "      <td>2023-01-02 10:02:27</td>\n",
       "      <td>ПЛ000000135</td>\n",
       "      <td>Аракчеева Ольга Павловна</td>\n",
       "      <td>4534</td>\n",
       "      <td>1</td>\n",
       "      <td>450.00</td>\n",
       "      <td>2023-01</td>\n",
       "      <td>2020-01</td>\n",
       "    </tr>\n",
       "    <tr>\n",
       "      <th>8439</th>\n",
       "      <td>48813</td>\n",
       "      <td>Физические лица</td>\n",
       "      <td>Московская обл</td>\n",
       "      <td>2023-01-02 15:57:39</td>\n",
       "      <td>ПЛ000000144</td>\n",
       "      <td>Куценко Максим Владимирович</td>\n",
       "      <td>4534</td>\n",
       "      <td>1</td>\n",
       "      <td>550.00</td>\n",
       "      <td>2023-01</td>\n",
       "      <td>2023-01</td>\n",
       "    </tr>\n",
       "    <tr>\n",
       "      <th>8440</th>\n",
       "      <td>48823</td>\n",
       "      <td>Физические лица</td>\n",
       "      <td>Москва г</td>\n",
       "      <td>2023-01-02 16:05:31</td>\n",
       "      <td>ПЛ000000145</td>\n",
       "      <td>Миронович Игорь Николаевич</td>\n",
       "      <td>4534</td>\n",
       "      <td>1</td>\n",
       "      <td>450.00</td>\n",
       "      <td>2023-01</td>\n",
       "      <td>2023-01</td>\n",
       "    </tr>\n",
       "  </tbody>\n",
       "</table>\n",
       "<p>7980 rows × 11 columns</p>\n",
       "</div>"
      ],
      "text/plain": [
       "     КодКонтрагента                   ТипКонтрагента  РегионКонтрагента  \\\n",
       "6             16099  Коммерческие, торговые компании  Новосибирская обл   \n",
       "7             28423  Коммерческие, торговые компании           Москва г   \n",
       "8             29823                  Физические лица     Московская обл   \n",
       "...             ...                              ...                ...   \n",
       "8438          28650  Коммерческие, торговые компании     Московская обл   \n",
       "8439          48813                  Физические лица     Московская обл   \n",
       "8440          48823                  Физические лица           Москва г   \n",
       "\n",
       "             ДатаПродажи НомерПродажи                Ответственный  \\\n",
       "6    2020-03-02 11:37:17  СТ000000603  Куценко Максим Владимирович   \n",
       "7    2020-03-02 11:47:27  СТ000000543   Миронович Игорь Николаевич   \n",
       "8    2020-03-02 12:29:01  ПЛ000000241  Куценко Максим Владимирович   \n",
       "...                  ...          ...                          ...   \n",
       "8438 2023-01-02 10:02:27  ПЛ000000135     Аракчеева Ольга Павловна   \n",
       "8439 2023-01-02 15:57:39  ПЛ000000144  Куценко Максим Владимирович   \n",
       "8440 2023-01-02 16:05:31  ПЛ000000145   Миронович Игорь Николаевич   \n",
       "\n",
       "     КодНоменклатуры  Количество  СтоимостьПродажиБезНДС order_month   cohort  \n",
       "6               1780           1                  791.67     2020-03  2020-03  \n",
       "7               4534           1                 1000.00     2020-03  2020-03  \n",
       "8               1780           1                  400.00     2020-03  2020-03  \n",
       "...              ...         ...                     ...         ...      ...  \n",
       "8438            4534           1                  450.00     2023-01  2020-01  \n",
       "8439            4534           1                  550.00     2023-01  2023-01  \n",
       "8440            4534           1                  450.00     2023-01  2023-01  \n",
       "\n",
       "[7980 rows x 11 columns]"
      ]
     },
     "execution_count": 22,
     "metadata": {},
     "output_type": "execute_result"
    }
   ],
   "source": [
    "train_df"
   ]
  },
  {
   "cell_type": "markdown",
   "metadata": {},
   "source": [
    "Агрегируем данные по cohort и order_month и считаем количество уникальных клиентов в каждой группе. \n",
    "Кроме того, добавляем period_number, который указывает количество периодов между месяцем когорты и месяцем покупки."
   ]
  },
  {
   "cell_type": "code",
   "execution_count": 23,
   "metadata": {},
   "outputs": [],
   "source": [
    "df_cohort = train_df.groupby(['cohort', 'order_month']) \\\n",
    "              .agg(n_customers=('КодКонтрагента', 'nunique')) \\\n",
    "              .reset_index(drop=False)\n",
    "df_cohort['period_number'] = (df_cohort.order_month - df_cohort.cohort).apply(attrgetter('n'))"
   ]
  },
  {
   "cell_type": "code",
   "execution_count": 24,
   "metadata": {},
   "outputs": [
    {
     "data": {
      "text/html": [
       "<div>\n",
       "<style scoped>\n",
       "    .dataframe tbody tr th:only-of-type {\n",
       "        vertical-align: middle;\n",
       "    }\n",
       "\n",
       "    .dataframe tbody tr th {\n",
       "        vertical-align: top;\n",
       "    }\n",
       "\n",
       "    .dataframe thead th {\n",
       "        text-align: right;\n",
       "    }\n",
       "</style>\n",
       "<table border=\"1\" class=\"dataframe\">\n",
       "  <thead>\n",
       "    <tr style=\"text-align: right;\">\n",
       "      <th></th>\n",
       "      <th>cohort</th>\n",
       "      <th>order_month</th>\n",
       "      <th>n_customers</th>\n",
       "      <th>period_number</th>\n",
       "    </tr>\n",
       "  </thead>\n",
       "  <tbody>\n",
       "    <tr>\n",
       "      <th>0</th>\n",
       "      <td>2020-01</td>\n",
       "      <td>2020-01</td>\n",
       "      <td>77</td>\n",
       "      <td>0</td>\n",
       "    </tr>\n",
       "    <tr>\n",
       "      <th>1</th>\n",
       "      <td>2020-01</td>\n",
       "      <td>2020-02</td>\n",
       "      <td>2</td>\n",
       "      <td>1</td>\n",
       "    </tr>\n",
       "    <tr>\n",
       "      <th>2</th>\n",
       "      <td>2020-01</td>\n",
       "      <td>2020-03</td>\n",
       "      <td>2</td>\n",
       "      <td>2</td>\n",
       "    </tr>\n",
       "    <tr>\n",
       "      <th>...</th>\n",
       "      <td>...</td>\n",
       "      <td>...</td>\n",
       "      <td>...</td>\n",
       "      <td>...</td>\n",
       "    </tr>\n",
       "    <tr>\n",
       "      <th>630</th>\n",
       "      <td>2023-10</td>\n",
       "      <td>2023-10</td>\n",
       "      <td>5</td>\n",
       "      <td>0</td>\n",
       "    </tr>\n",
       "    <tr>\n",
       "      <th>631</th>\n",
       "      <td>2023-11</td>\n",
       "      <td>2023-11</td>\n",
       "      <td>1</td>\n",
       "      <td>0</td>\n",
       "    </tr>\n",
       "    <tr>\n",
       "      <th>632</th>\n",
       "      <td>2023-12</td>\n",
       "      <td>2023-12</td>\n",
       "      <td>2</td>\n",
       "      <td>0</td>\n",
       "    </tr>\n",
       "  </tbody>\n",
       "</table>\n",
       "<p>633 rows × 4 columns</p>\n",
       "</div>"
      ],
      "text/plain": [
       "      cohort order_month  n_customers  period_number\n",
       "0    2020-01     2020-01           77              0\n",
       "1    2020-01     2020-02            2              1\n",
       "2    2020-01     2020-03            2              2\n",
       "..       ...         ...          ...            ...\n",
       "630  2023-10     2023-10            5              0\n",
       "631  2023-11     2023-11            1              0\n",
       "632  2023-12     2023-12            2              0\n",
       "\n",
       "[633 rows x 4 columns]"
      ]
     },
     "execution_count": 24,
     "metadata": {},
     "output_type": "execute_result"
    }
   ],
   "source": [
    "df_cohort"
   ]
  },
  {
   "cell_type": "code",
   "execution_count": 25,
   "metadata": {},
   "outputs": [],
   "source": [
    "cohort_pivot = df_cohort.pivot_table(index = 'cohort',\n",
    "                                     columns = 'period_number',\n",
    "                                     values = 'n_customers')"
   ]
  },
  {
   "cell_type": "code",
   "execution_count": 26,
   "metadata": {},
   "outputs": [
    {
     "data": {
      "text/html": [
       "<div>\n",
       "<style scoped>\n",
       "    .dataframe tbody tr th:only-of-type {\n",
       "        vertical-align: middle;\n",
       "    }\n",
       "\n",
       "    .dataframe tbody tr th {\n",
       "        vertical-align: top;\n",
       "    }\n",
       "\n",
       "    .dataframe thead th {\n",
       "        text-align: right;\n",
       "    }\n",
       "</style>\n",
       "<table border=\"1\" class=\"dataframe\">\n",
       "  <thead>\n",
       "    <tr style=\"text-align: right;\">\n",
       "      <th>period_number</th>\n",
       "      <th>0</th>\n",
       "      <th>1</th>\n",
       "      <th>2</th>\n",
       "      <th>3</th>\n",
       "      <th>4</th>\n",
       "      <th>5</th>\n",
       "      <th>6</th>\n",
       "      <th>7</th>\n",
       "      <th>8</th>\n",
       "      <th>9</th>\n",
       "      <th>...</th>\n",
       "      <th>29</th>\n",
       "      <th>30</th>\n",
       "      <th>31</th>\n",
       "      <th>32</th>\n",
       "      <th>33</th>\n",
       "      <th>34</th>\n",
       "      <th>35</th>\n",
       "      <th>36</th>\n",
       "      <th>42</th>\n",
       "      <th>43</th>\n",
       "    </tr>\n",
       "    <tr>\n",
       "      <th>cohort</th>\n",
       "      <th></th>\n",
       "      <th></th>\n",
       "      <th></th>\n",
       "      <th></th>\n",
       "      <th></th>\n",
       "      <th></th>\n",
       "      <th></th>\n",
       "      <th></th>\n",
       "      <th></th>\n",
       "      <th></th>\n",
       "      <th></th>\n",
       "      <th></th>\n",
       "      <th></th>\n",
       "      <th></th>\n",
       "      <th></th>\n",
       "      <th></th>\n",
       "      <th></th>\n",
       "      <th></th>\n",
       "      <th></th>\n",
       "      <th></th>\n",
       "      <th></th>\n",
       "    </tr>\n",
       "  </thead>\n",
       "  <tbody>\n",
       "    <tr>\n",
       "      <th>2020-01</th>\n",
       "      <td>77.0</td>\n",
       "      <td>2.0</td>\n",
       "      <td>2.0</td>\n",
       "      <td>1.0</td>\n",
       "      <td>4.0</td>\n",
       "      <td>5.0</td>\n",
       "      <td>3.0</td>\n",
       "      <td>5.0</td>\n",
       "      <td>NaN</td>\n",
       "      <td>1.0</td>\n",
       "      <td>...</td>\n",
       "      <td>NaN</td>\n",
       "      <td>NaN</td>\n",
       "      <td>NaN</td>\n",
       "      <td>1.0</td>\n",
       "      <td>1.0</td>\n",
       "      <td>1.0</td>\n",
       "      <td>1.0</td>\n",
       "      <td>2.0</td>\n",
       "      <td>NaN</td>\n",
       "      <td>NaN</td>\n",
       "    </tr>\n",
       "    <tr>\n",
       "      <th>2020-02</th>\n",
       "      <td>163.0</td>\n",
       "      <td>5.0</td>\n",
       "      <td>3.0</td>\n",
       "      <td>9.0</td>\n",
       "      <td>15.0</td>\n",
       "      <td>16.0</td>\n",
       "      <td>13.0</td>\n",
       "      <td>13.0</td>\n",
       "      <td>17.0</td>\n",
       "      <td>12.0</td>\n",
       "      <td>...</td>\n",
       "      <td>2.0</td>\n",
       "      <td>1.0</td>\n",
       "      <td>5.0</td>\n",
       "      <td>1.0</td>\n",
       "      <td>2.0</td>\n",
       "      <td>NaN</td>\n",
       "      <td>NaN</td>\n",
       "      <td>NaN</td>\n",
       "      <td>NaN</td>\n",
       "      <td>NaN</td>\n",
       "    </tr>\n",
       "    <tr>\n",
       "      <th>2020-03</th>\n",
       "      <td>151.0</td>\n",
       "      <td>2.0</td>\n",
       "      <td>10.0</td>\n",
       "      <td>8.0</td>\n",
       "      <td>12.0</td>\n",
       "      <td>4.0</td>\n",
       "      <td>13.0</td>\n",
       "      <td>11.0</td>\n",
       "      <td>5.0</td>\n",
       "      <td>5.0</td>\n",
       "      <td>...</td>\n",
       "      <td>2.0</td>\n",
       "      <td>5.0</td>\n",
       "      <td>2.0</td>\n",
       "      <td>4.0</td>\n",
       "      <td>2.0</td>\n",
       "      <td>2.0</td>\n",
       "      <td>NaN</td>\n",
       "      <td>NaN</td>\n",
       "      <td>NaN</td>\n",
       "      <td>NaN</td>\n",
       "    </tr>\n",
       "    <tr>\n",
       "      <th>...</th>\n",
       "      <td>...</td>\n",
       "      <td>...</td>\n",
       "      <td>...</td>\n",
       "      <td>...</td>\n",
       "      <td>...</td>\n",
       "      <td>...</td>\n",
       "      <td>...</td>\n",
       "      <td>...</td>\n",
       "      <td>...</td>\n",
       "      <td>...</td>\n",
       "      <td>...</td>\n",
       "      <td>...</td>\n",
       "      <td>...</td>\n",
       "      <td>...</td>\n",
       "      <td>...</td>\n",
       "      <td>...</td>\n",
       "      <td>...</td>\n",
       "      <td>...</td>\n",
       "      <td>...</td>\n",
       "      <td>...</td>\n",
       "      <td>...</td>\n",
       "    </tr>\n",
       "    <tr>\n",
       "      <th>2023-10</th>\n",
       "      <td>5.0</td>\n",
       "      <td>NaN</td>\n",
       "      <td>NaN</td>\n",
       "      <td>NaN</td>\n",
       "      <td>NaN</td>\n",
       "      <td>NaN</td>\n",
       "      <td>NaN</td>\n",
       "      <td>NaN</td>\n",
       "      <td>NaN</td>\n",
       "      <td>NaN</td>\n",
       "      <td>...</td>\n",
       "      <td>NaN</td>\n",
       "      <td>NaN</td>\n",
       "      <td>NaN</td>\n",
       "      <td>NaN</td>\n",
       "      <td>NaN</td>\n",
       "      <td>NaN</td>\n",
       "      <td>NaN</td>\n",
       "      <td>NaN</td>\n",
       "      <td>NaN</td>\n",
       "      <td>NaN</td>\n",
       "    </tr>\n",
       "    <tr>\n",
       "      <th>2023-11</th>\n",
       "      <td>1.0</td>\n",
       "      <td>NaN</td>\n",
       "      <td>NaN</td>\n",
       "      <td>NaN</td>\n",
       "      <td>NaN</td>\n",
       "      <td>NaN</td>\n",
       "      <td>NaN</td>\n",
       "      <td>NaN</td>\n",
       "      <td>NaN</td>\n",
       "      <td>NaN</td>\n",
       "      <td>...</td>\n",
       "      <td>NaN</td>\n",
       "      <td>NaN</td>\n",
       "      <td>NaN</td>\n",
       "      <td>NaN</td>\n",
       "      <td>NaN</td>\n",
       "      <td>NaN</td>\n",
       "      <td>NaN</td>\n",
       "      <td>NaN</td>\n",
       "      <td>NaN</td>\n",
       "      <td>NaN</td>\n",
       "    </tr>\n",
       "    <tr>\n",
       "      <th>2023-12</th>\n",
       "      <td>2.0</td>\n",
       "      <td>NaN</td>\n",
       "      <td>NaN</td>\n",
       "      <td>NaN</td>\n",
       "      <td>NaN</td>\n",
       "      <td>NaN</td>\n",
       "      <td>NaN</td>\n",
       "      <td>NaN</td>\n",
       "      <td>NaN</td>\n",
       "      <td>NaN</td>\n",
       "      <td>...</td>\n",
       "      <td>NaN</td>\n",
       "      <td>NaN</td>\n",
       "      <td>NaN</td>\n",
       "      <td>NaN</td>\n",
       "      <td>NaN</td>\n",
       "      <td>NaN</td>\n",
       "      <td>NaN</td>\n",
       "      <td>NaN</td>\n",
       "      <td>NaN</td>\n",
       "      <td>NaN</td>\n",
       "    </tr>\n",
       "  </tbody>\n",
       "</table>\n",
       "<p>41 rows × 39 columns</p>\n",
       "</div>"
      ],
      "text/plain": [
       "period_number     0    1     2    3     4     5     6     7     8     9   ...  \\\n",
       "cohort                                                                    ...   \n",
       "2020-01         77.0  2.0   2.0  1.0   4.0   5.0   3.0   5.0   NaN   1.0  ...   \n",
       "2020-02        163.0  5.0   3.0  9.0  15.0  16.0  13.0  13.0  17.0  12.0  ...   \n",
       "2020-03        151.0  2.0  10.0  8.0  12.0   4.0  13.0  11.0   5.0   5.0  ...   \n",
       "...              ...  ...   ...  ...   ...   ...   ...   ...   ...   ...  ...   \n",
       "2023-10          5.0  NaN   NaN  NaN   NaN   NaN   NaN   NaN   NaN   NaN  ...   \n",
       "2023-11          1.0  NaN   NaN  NaN   NaN   NaN   NaN   NaN   NaN   NaN  ...   \n",
       "2023-12          2.0  NaN   NaN  NaN   NaN   NaN   NaN   NaN   NaN   NaN  ...   \n",
       "\n",
       "period_number   29   30   31   32   33   34   35   36  42  43  \n",
       "cohort                                                         \n",
       "2020-01        NaN  NaN  NaN  1.0  1.0  1.0  1.0  2.0 NaN NaN  \n",
       "2020-02        2.0  1.0  5.0  1.0  2.0  NaN  NaN  NaN NaN NaN  \n",
       "2020-03        2.0  5.0  2.0  4.0  2.0  2.0  NaN  NaN NaN NaN  \n",
       "...            ...  ...  ...  ...  ...  ...  ...  ...  ..  ..  \n",
       "2023-10        NaN  NaN  NaN  NaN  NaN  NaN  NaN  NaN NaN NaN  \n",
       "2023-11        NaN  NaN  NaN  NaN  NaN  NaN  NaN  NaN NaN NaN  \n",
       "2023-12        NaN  NaN  NaN  NaN  NaN  NaN  NaN  NaN NaN NaN  \n",
       "\n",
       "[41 rows x 39 columns]"
      ]
     },
     "execution_count": 26,
     "metadata": {},
     "output_type": "execute_result"
    }
   ],
   "source": [
    "cohort_pivot"
   ]
  },
  {
   "cell_type": "code",
   "execution_count": 27,
   "metadata": {},
   "outputs": [],
   "source": [
    "cohort_size = cohort_pivot.iloc[:,0]\n",
    "retention_matrix = cohort_pivot.divide(cohort_size, axis = 0)"
   ]
  },
  {
   "cell_type": "code",
   "execution_count": 28,
   "metadata": {},
   "outputs": [
    {
     "data": {
      "text/html": [
       "<div>\n",
       "<style scoped>\n",
       "    .dataframe tbody tr th:only-of-type {\n",
       "        vertical-align: middle;\n",
       "    }\n",
       "\n",
       "    .dataframe tbody tr th {\n",
       "        vertical-align: top;\n",
       "    }\n",
       "\n",
       "    .dataframe thead th {\n",
       "        text-align: right;\n",
       "    }\n",
       "</style>\n",
       "<table border=\"1\" class=\"dataframe\">\n",
       "  <thead>\n",
       "    <tr style=\"text-align: right;\">\n",
       "      <th>period_number</th>\n",
       "      <th>0</th>\n",
       "      <th>1</th>\n",
       "      <th>2</th>\n",
       "      <th>3</th>\n",
       "      <th>4</th>\n",
       "      <th>5</th>\n",
       "      <th>6</th>\n",
       "      <th>7</th>\n",
       "      <th>8</th>\n",
       "      <th>9</th>\n",
       "      <th>...</th>\n",
       "      <th>29</th>\n",
       "      <th>30</th>\n",
       "      <th>31</th>\n",
       "      <th>32</th>\n",
       "      <th>33</th>\n",
       "      <th>34</th>\n",
       "      <th>35</th>\n",
       "      <th>36</th>\n",
       "      <th>42</th>\n",
       "      <th>43</th>\n",
       "    </tr>\n",
       "    <tr>\n",
       "      <th>cohort</th>\n",
       "      <th></th>\n",
       "      <th></th>\n",
       "      <th></th>\n",
       "      <th></th>\n",
       "      <th></th>\n",
       "      <th></th>\n",
       "      <th></th>\n",
       "      <th></th>\n",
       "      <th></th>\n",
       "      <th></th>\n",
       "      <th></th>\n",
       "      <th></th>\n",
       "      <th></th>\n",
       "      <th></th>\n",
       "      <th></th>\n",
       "      <th></th>\n",
       "      <th></th>\n",
       "      <th></th>\n",
       "      <th></th>\n",
       "      <th></th>\n",
       "      <th></th>\n",
       "    </tr>\n",
       "  </thead>\n",
       "  <tbody>\n",
       "    <tr>\n",
       "      <th>2020-01</th>\n",
       "      <td>1.0</td>\n",
       "      <td>0.025974</td>\n",
       "      <td>0.025974</td>\n",
       "      <td>0.012987</td>\n",
       "      <td>0.051948</td>\n",
       "      <td>0.064935</td>\n",
       "      <td>0.038961</td>\n",
       "      <td>0.064935</td>\n",
       "      <td>NaN</td>\n",
       "      <td>0.012987</td>\n",
       "      <td>...</td>\n",
       "      <td>NaN</td>\n",
       "      <td>NaN</td>\n",
       "      <td>NaN</td>\n",
       "      <td>0.012987</td>\n",
       "      <td>0.012987</td>\n",
       "      <td>0.012987</td>\n",
       "      <td>0.012987</td>\n",
       "      <td>0.025974</td>\n",
       "      <td>NaN</td>\n",
       "      <td>NaN</td>\n",
       "    </tr>\n",
       "    <tr>\n",
       "      <th>2020-02</th>\n",
       "      <td>1.0</td>\n",
       "      <td>0.030675</td>\n",
       "      <td>0.018405</td>\n",
       "      <td>0.055215</td>\n",
       "      <td>0.092025</td>\n",
       "      <td>0.098160</td>\n",
       "      <td>0.079755</td>\n",
       "      <td>0.079755</td>\n",
       "      <td>0.104294</td>\n",
       "      <td>0.073620</td>\n",
       "      <td>...</td>\n",
       "      <td>0.012270</td>\n",
       "      <td>0.006135</td>\n",
       "      <td>0.030675</td>\n",
       "      <td>0.006135</td>\n",
       "      <td>0.012270</td>\n",
       "      <td>NaN</td>\n",
       "      <td>NaN</td>\n",
       "      <td>NaN</td>\n",
       "      <td>NaN</td>\n",
       "      <td>NaN</td>\n",
       "    </tr>\n",
       "    <tr>\n",
       "      <th>2020-03</th>\n",
       "      <td>1.0</td>\n",
       "      <td>0.013245</td>\n",
       "      <td>0.066225</td>\n",
       "      <td>0.052980</td>\n",
       "      <td>0.079470</td>\n",
       "      <td>0.026490</td>\n",
       "      <td>0.086093</td>\n",
       "      <td>0.072848</td>\n",
       "      <td>0.033113</td>\n",
       "      <td>0.033113</td>\n",
       "      <td>...</td>\n",
       "      <td>0.013245</td>\n",
       "      <td>0.033113</td>\n",
       "      <td>0.013245</td>\n",
       "      <td>0.026490</td>\n",
       "      <td>0.013245</td>\n",
       "      <td>0.013245</td>\n",
       "      <td>NaN</td>\n",
       "      <td>NaN</td>\n",
       "      <td>NaN</td>\n",
       "      <td>NaN</td>\n",
       "    </tr>\n",
       "    <tr>\n",
       "      <th>...</th>\n",
       "      <td>...</td>\n",
       "      <td>...</td>\n",
       "      <td>...</td>\n",
       "      <td>...</td>\n",
       "      <td>...</td>\n",
       "      <td>...</td>\n",
       "      <td>...</td>\n",
       "      <td>...</td>\n",
       "      <td>...</td>\n",
       "      <td>...</td>\n",
       "      <td>...</td>\n",
       "      <td>...</td>\n",
       "      <td>...</td>\n",
       "      <td>...</td>\n",
       "      <td>...</td>\n",
       "      <td>...</td>\n",
       "      <td>...</td>\n",
       "      <td>...</td>\n",
       "      <td>...</td>\n",
       "      <td>...</td>\n",
       "      <td>...</td>\n",
       "    </tr>\n",
       "    <tr>\n",
       "      <th>2023-10</th>\n",
       "      <td>1.0</td>\n",
       "      <td>NaN</td>\n",
       "      <td>NaN</td>\n",
       "      <td>NaN</td>\n",
       "      <td>NaN</td>\n",
       "      <td>NaN</td>\n",
       "      <td>NaN</td>\n",
       "      <td>NaN</td>\n",
       "      <td>NaN</td>\n",
       "      <td>NaN</td>\n",
       "      <td>...</td>\n",
       "      <td>NaN</td>\n",
       "      <td>NaN</td>\n",
       "      <td>NaN</td>\n",
       "      <td>NaN</td>\n",
       "      <td>NaN</td>\n",
       "      <td>NaN</td>\n",
       "      <td>NaN</td>\n",
       "      <td>NaN</td>\n",
       "      <td>NaN</td>\n",
       "      <td>NaN</td>\n",
       "    </tr>\n",
       "    <tr>\n",
       "      <th>2023-11</th>\n",
       "      <td>1.0</td>\n",
       "      <td>NaN</td>\n",
       "      <td>NaN</td>\n",
       "      <td>NaN</td>\n",
       "      <td>NaN</td>\n",
       "      <td>NaN</td>\n",
       "      <td>NaN</td>\n",
       "      <td>NaN</td>\n",
       "      <td>NaN</td>\n",
       "      <td>NaN</td>\n",
       "      <td>...</td>\n",
       "      <td>NaN</td>\n",
       "      <td>NaN</td>\n",
       "      <td>NaN</td>\n",
       "      <td>NaN</td>\n",
       "      <td>NaN</td>\n",
       "      <td>NaN</td>\n",
       "      <td>NaN</td>\n",
       "      <td>NaN</td>\n",
       "      <td>NaN</td>\n",
       "      <td>NaN</td>\n",
       "    </tr>\n",
       "    <tr>\n",
       "      <th>2023-12</th>\n",
       "      <td>1.0</td>\n",
       "      <td>NaN</td>\n",
       "      <td>NaN</td>\n",
       "      <td>NaN</td>\n",
       "      <td>NaN</td>\n",
       "      <td>NaN</td>\n",
       "      <td>NaN</td>\n",
       "      <td>NaN</td>\n",
       "      <td>NaN</td>\n",
       "      <td>NaN</td>\n",
       "      <td>...</td>\n",
       "      <td>NaN</td>\n",
       "      <td>NaN</td>\n",
       "      <td>NaN</td>\n",
       "      <td>NaN</td>\n",
       "      <td>NaN</td>\n",
       "      <td>NaN</td>\n",
       "      <td>NaN</td>\n",
       "      <td>NaN</td>\n",
       "      <td>NaN</td>\n",
       "      <td>NaN</td>\n",
       "    </tr>\n",
       "  </tbody>\n",
       "</table>\n",
       "<p>41 rows × 39 columns</p>\n",
       "</div>"
      ],
      "text/plain": [
       "period_number   0         1         2         3         4         5   \\\n",
       "cohort                                                                 \n",
       "2020-01        1.0  0.025974  0.025974  0.012987  0.051948  0.064935   \n",
       "2020-02        1.0  0.030675  0.018405  0.055215  0.092025  0.098160   \n",
       "2020-03        1.0  0.013245  0.066225  0.052980  0.079470  0.026490   \n",
       "...            ...       ...       ...       ...       ...       ...   \n",
       "2023-10        1.0       NaN       NaN       NaN       NaN       NaN   \n",
       "2023-11        1.0       NaN       NaN       NaN       NaN       NaN   \n",
       "2023-12        1.0       NaN       NaN       NaN       NaN       NaN   \n",
       "\n",
       "period_number        6         7         8         9   ...        29  \\\n",
       "cohort                                                 ...             \n",
       "2020-01        0.038961  0.064935       NaN  0.012987  ...       NaN   \n",
       "2020-02        0.079755  0.079755  0.104294  0.073620  ...  0.012270   \n",
       "2020-03        0.086093  0.072848  0.033113  0.033113  ...  0.013245   \n",
       "...                 ...       ...       ...       ...  ...       ...   \n",
       "2023-10             NaN       NaN       NaN       NaN  ...       NaN   \n",
       "2023-11             NaN       NaN       NaN       NaN  ...       NaN   \n",
       "2023-12             NaN       NaN       NaN       NaN  ...       NaN   \n",
       "\n",
       "period_number        30        31        32        33        34        35  \\\n",
       "cohort                                                                      \n",
       "2020-01             NaN       NaN  0.012987  0.012987  0.012987  0.012987   \n",
       "2020-02        0.006135  0.030675  0.006135  0.012270       NaN       NaN   \n",
       "2020-03        0.033113  0.013245  0.026490  0.013245  0.013245       NaN   \n",
       "...                 ...       ...       ...       ...       ...       ...   \n",
       "2023-10             NaN       NaN       NaN       NaN       NaN       NaN   \n",
       "2023-11             NaN       NaN       NaN       NaN       NaN       NaN   \n",
       "2023-12             NaN       NaN       NaN       NaN       NaN       NaN   \n",
       "\n",
       "period_number        36  42  43  \n",
       "cohort                           \n",
       "2020-01        0.025974 NaN NaN  \n",
       "2020-02             NaN NaN NaN  \n",
       "2020-03             NaN NaN NaN  \n",
       "...                 ...  ..  ..  \n",
       "2023-10             NaN NaN NaN  \n",
       "2023-11             NaN NaN NaN  \n",
       "2023-12             NaN NaN NaN  \n",
       "\n",
       "[41 rows x 39 columns]"
      ]
     },
     "execution_count": 28,
     "metadata": {},
     "output_type": "execute_result"
    }
   ],
   "source": [
    "retention_matrix"
   ]
  },
  {
   "cell_type": "code",
   "execution_count": 29,
   "metadata": {},
   "outputs": [
    {
     "data": {
      "image/png": "[encoded data removed]",
      "text/plain": [
       "<Figure size 864x576 with 3 Axes>"
      ]
     },
     "metadata": {},
     "output_type": "display_data"
    }
   ],
   "source": [
    "with sns.axes_style(\"white\"):\n",
    "    fig, ax = plt.subplots(1, 2, figsize=(12, 8), sharey=True, gridspec_kw={'width_ratios': [1, 11]})\n",
    "    \n",
    "    # retention matrix\n",
    "    sns.heatmap(retention_matrix, \n",
    "                mask=retention_matrix.isnull(), \n",
    "                annot=True, \n",
    "                fmt='.0%', \n",
    "                cmap='RdYlGn', \n",
    "                ax=ax[1])\n",
    "    ax[1].set_title('Месячные когорты на удержание пользователей', fontsize=16)\n",
    "    ax[1].set(xlabel='номер месяца',\n",
    "              ylabel='когорта')\n",
    "\n",
    "    # cohort size\n",
    "    cohort_size_df = pd.DataFrame(cohort_size).rename(columns={0: 'cohort_size'})\n",
    "    white_cmap = mcolors.ListedColormap(['white'])\n",
    "    sns.heatmap(cohort_size_df, \n",
    "                annot=True, \n",
    "                cbar=False, \n",
    "                fmt='g', \n",
    "                cmap=white_cmap, \n",
    "                ax=ax[0])\n",
    "\n",
    "    fig.tight_layout()"
   ]
  },
  {
   "cell_type": "markdown",
   "metadata": {},
   "source": [
    "https://towardsdatascience.com/a-step-by-step-introduction-to-cohort-analysis-in-python-a2cbbd8460ea"
   ]
  },
  {
   "cell_type": "code",
   "execution_count": 30,
   "metadata": {},
   "outputs": [],
   "source": [
    "df_coh1 = train_df.groupby(['cohort', 'order_month']).agg(\\\n",
    "                n_customers=('КодКонтрагента', 'nunique'),\\\n",
    "                count = ('Количество','sum'),\n",
    "                avg_rev =('СтоимостьПродажиБезНДС','mean')) \\\n",
    "                .reset_index(drop=False)\n",
    "df_coh1['period_number'] = (df_coh1.order_month - df_coh1.cohort).apply(attrgetter('n'))"
   ]
  },
  {
   "cell_type": "code",
   "execution_count": 31,
   "metadata": {},
   "outputs": [
    {
     "data": {
      "text/html": [
       "<div>\n",
       "<style scoped>\n",
       "    .dataframe tbody tr th:only-of-type {\n",
       "        vertical-align: middle;\n",
       "    }\n",
       "\n",
       "    .dataframe tbody tr th {\n",
       "        vertical-align: top;\n",
       "    }\n",
       "\n",
       "    .dataframe thead th {\n",
       "        text-align: right;\n",
       "    }\n",
       "</style>\n",
       "<table border=\"1\" class=\"dataframe\">\n",
       "  <thead>\n",
       "    <tr style=\"text-align: right;\">\n",
       "      <th></th>\n",
       "      <th>cohort</th>\n",
       "      <th>order_month</th>\n",
       "      <th>n_customers</th>\n",
       "      <th>count</th>\n",
       "      <th>avg_rev</th>\n",
       "      <th>period_number</th>\n",
       "    </tr>\n",
       "  </thead>\n",
       "  <tbody>\n",
       "    <tr>\n",
       "      <th>472</th>\n",
       "      <td>2021-06</td>\n",
       "      <td>2022-08</td>\n",
       "      <td>1</td>\n",
       "      <td>1</td>\n",
       "      <td>833.33</td>\n",
       "      <td>14</td>\n",
       "    </tr>\n",
       "    <tr>\n",
       "      <th>352</th>\n",
       "      <td>2020-12</td>\n",
       "      <td>2022-10</td>\n",
       "      <td>1</td>\n",
       "      <td>1</td>\n",
       "      <td>541.67</td>\n",
       "      <td>22</td>\n",
       "    </tr>\n",
       "    <tr>\n",
       "      <th>92</th>\n",
       "      <td>2020-03</td>\n",
       "      <td>2022-04</td>\n",
       "      <td>1</td>\n",
       "      <td>1</td>\n",
       "      <td>291.67</td>\n",
       "      <td>25</td>\n",
       "    </tr>\n",
       "    <tr>\n",
       "      <th>476</th>\n",
       "      <td>2021-06</td>\n",
       "      <td>2022-12</td>\n",
       "      <td>1</td>\n",
       "      <td>1</td>\n",
       "      <td>558.33</td>\n",
       "      <td>18</td>\n",
       "    </tr>\n",
       "    <tr>\n",
       "      <th>350</th>\n",
       "      <td>2020-12</td>\n",
       "      <td>2022-08</td>\n",
       "      <td>1</td>\n",
       "      <td>1</td>\n",
       "      <td>283.33</td>\n",
       "      <td>20</td>\n",
       "    </tr>\n",
       "  </tbody>\n",
       "</table>\n",
       "</div>"
      ],
      "text/plain": [
       "      cohort order_month  n_customers  count  avg_rev  period_number\n",
       "472  2021-06     2022-08            1      1   833.33             14\n",
       "352  2020-12     2022-10            1      1   541.67             22\n",
       "92   2020-03     2022-04            1      1   291.67             25\n",
       "476  2021-06     2022-12            1      1   558.33             18\n",
       "350  2020-12     2022-08            1      1   283.33             20"
      ]
     },
     "execution_count": 31,
     "metadata": {},
     "output_type": "execute_result"
    }
   ],
   "source": [
    "df_coh1.sort_values(by='count', ascending=True).head(5)"
   ]
  },
  {
   "cell_type": "code",
   "execution_count": 32,
   "metadata": {
    "scrolled": true
   },
   "outputs": [
    {
     "data": {
      "text/plain": [
       "[<matplotlib.lines.Line2D at 0x7f6cb5c97ac0>]"
      ]
     },
     "execution_count": 32,
     "metadata": {},
     "output_type": "execute_result"
    },
    {
     "data": {
      "image/png": "[encoded data removed]",
      "text/plain": [
       "<Figure size 1080x360 with 1 Axes>"
      ]
     },
     "metadata": {
      "needs_background": "light"
     },
     "output_type": "display_data"
    }
   ],
   "source": [
    "kg_avg_rev = sns.relplot(kind='line', data=df_coh1, \n",
    "                x=df_coh1['period_number'], \n",
    "                y=df_coh1['avg_rev'], \n",
    "                aspect=3, marker='o')\n",
    "a, b = np.polyfit(df_coh1['period_number'], df_coh1['avg_rev'], 1)\n",
    "plt.plot(df_coh1['period_number'], a*df_coh1['period_number']+b, color='r', linestyle='-', linewidth=1)\n"
   ]
  },
  {
   "cell_type": "markdown",
   "metadata": {},
   "source": [
    "RFM анализ"
   ]
  },
  {
   "cell_type": "markdown",
   "metadata": {},
   "source": [
    "http://dfedorov.spb.ru/pandas/%D0%98%D1%81%D0%BF%D0%BE%D0%BB%D1%8C%D0%B7%D0%BE%D0%B2%D0%B0%D0%BD%D0%B8%D0%B5%20%D1%82%D0%B8%D0%BF%D0%B0%20%D0%B4%D0%B0%D0%BD%D0%BD%D1%8B%D1%85%20%D0%BA%D0%B0%D1%82%D0%B5%D0%B3%D0%BE%D1%80%D0%B8%D0%B8%20%D0%B2%20pandas.html"
   ]
  },
  {
   "cell_type": "code",
   "execution_count": 33,
   "metadata": {},
   "outputs": [],
   "source": [
    "import datetime as dt\n",
    "now =  dt.datetime(2021,1,1)"
   ]
  },
  {
   "cell_type": "code",
   "execution_count": 34,
   "metadata": {},
   "outputs": [],
   "source": [
    "raw_rfm = train_df[(train_df['ДатаПродажи'] >='2020-1-1') & (train_df['ДатаПродажи'] < '2021-1-1')]"
   ]
  },
  {
   "cell_type": "code",
   "execution_count": 35,
   "metadata": {},
   "outputs": [
    {
     "name": "stdout",
     "output_type": "stream",
     "text": [
      "<class 'pandas.core.frame.DataFrame'>\n",
      "Int64Index: 3304 entries, 6 to 3660\n",
      "Data columns (total 11 columns):\n",
      " #   Column                  Non-Null Count  Dtype         \n",
      "---  ------                  --------------  -----         \n",
      " 0   КодКонтрагента          3304 non-null   category      \n",
      " 1   ТипКонтрагента          3304 non-null   category      \n",
      " 2   РегионКонтрагента       3304 non-null   category      \n",
      " 3   ДатаПродажи             3304 non-null   datetime64[ns]\n",
      " 4   НомерПродажи            3304 non-null   category      \n",
      " 5   Ответственный           3304 non-null   category      \n",
      " 6   КодНоменклатуры         3304 non-null   category      \n",
      " 7   Количество              3304 non-null   int64         \n",
      " 8   СтоимостьПродажиБезНДС  3304 non-null   float64       \n",
      " 9   order_month             3304 non-null   period[M]     \n",
      " 10  cohort                  3304 non-null   period[M]     \n",
      "dtypes: category(6), datetime64[ns](1), float64(1), int64(1), period[M](2)\n",
      "memory usage: 663.1 KB\n"
     ]
    }
   ],
   "source": [
    "raw_rfm.info()"
   ]
  },
  {
   "cell_type": "code",
   "execution_count": 36,
   "metadata": {},
   "outputs": [],
   "source": [
    "rfm = raw_rfm.groupby('КодКонтрагента').agg(\\\n",
    "                                       {'ДатаПродажи' : lambda day : (now - day.max()).days,\n",
    "                                        'НомерПродажи': lambda num : len(num),\n",
    "                                        'СтоимостьПродажиБезНДС': lambda price : price.sum()\n",
    " })\n",
    "col_list = ['Recency','Frequency','Monetary']  \n",
    "rfm.columns = col_list"
   ]
  },
  {
   "cell_type": "markdown",
   "metadata": {},
   "source": [
    "Разделим данные ('Recency','Frequency','Monetary') на несколько сегментов для дальнейшего анализа.\n",
    "В коде для Recency числа поменяны местами так как более низкая Recency для нас лучше."
   ]
  },
  {
   "cell_type": "code",
   "execution_count": 37,
   "metadata": {},
   "outputs": [],
   "source": [
    "cut_labels_r = [1,2,3,4,5]\n",
    "cut_bins_r = [0,30,60,90,180,10000]\n",
    "rfm[\"R\"] = pd.cut(rfm[\"Recency\"], bins=cut_bins_r, labels=cut_labels_r)\n",
    "cut_labels_f = [1,2,3,4,5]\n",
    "cut_bins_f = [0,1,2,3,5,10000]\n",
    "rfm[\"F\"] = pd.cut(rfm[\"Frequency\"], bins=cut_bins_f, labels=cut_labels_f)\n",
    "cut_labels_m = [1,2,3,4,5]\n",
    "cut_bins_m = [0,101,201,501,1001,10000]\n",
    "rfm[\"M\"] = pd.cut(rfm[\"Monetary\"], bins=cut_bins_m, labels=cut_labels_m)"
   ]
  },
  {
   "cell_type": "markdown",
   "metadata": {},
   "source": [
    "Проверим все категоризированные выше признаки "
   ]
  },
  {
   "cell_type": "code",
   "execution_count": 38,
   "metadata": {},
   "outputs": [
    {
     "data": {
      "text/plain": [
       "225"
      ]
     },
     "execution_count": 38,
     "metadata": {},
     "output_type": "execute_result"
    }
   ],
   "source": [
    "#для Recency\n",
    "tbl = rfm.groupby(['Recency'])['R'].count().reset_index()\n",
    "tbl.query(\"R > 0 & Recency <= 30\")['R'].sum()"
   ]
  },
  {
   "cell_type": "code",
   "execution_count": 39,
   "metadata": {},
   "outputs": [
    {
     "data": {
      "text/html": [
       "<div>\n",
       "<style scoped>\n",
       "    .dataframe tbody tr th:only-of-type {\n",
       "        vertical-align: middle;\n",
       "    }\n",
       "\n",
       "    .dataframe tbody tr th {\n",
       "        vertical-align: top;\n",
       "    }\n",
       "\n",
       "    .dataframe thead th {\n",
       "        text-align: right;\n",
       "    }\n",
       "</style>\n",
       "<table border=\"1\" class=\"dataframe\">\n",
       "  <thead>\n",
       "    <tr style=\"text-align: right;\">\n",
       "      <th></th>\n",
       "      <th>R</th>\n",
       "      <th>Recency</th>\n",
       "    </tr>\n",
       "  </thead>\n",
       "  <tbody>\n",
       "    <tr>\n",
       "      <th>0</th>\n",
       "      <td>1</td>\n",
       "      <td>225</td>\n",
       "    </tr>\n",
       "    <tr>\n",
       "      <th>1</th>\n",
       "      <td>2</td>\n",
       "      <td>241</td>\n",
       "    </tr>\n",
       "    <tr>\n",
       "      <th>2</th>\n",
       "      <td>3</td>\n",
       "      <td>406</td>\n",
       "    </tr>\n",
       "    <tr>\n",
       "      <th>3</th>\n",
       "      <td>4</td>\n",
       "      <td>795</td>\n",
       "    </tr>\n",
       "    <tr>\n",
       "      <th>4</th>\n",
       "      <td>5</td>\n",
       "      <td>821</td>\n",
       "    </tr>\n",
       "  </tbody>\n",
       "</table>\n",
       "</div>"
      ],
      "text/plain": [
       "   R  Recency\n",
       "0  1      225\n",
       "1  2      241\n",
       "2  3      406\n",
       "3  4      795\n",
       "4  5      821"
      ]
     },
     "execution_count": 39,
     "metadata": {},
     "output_type": "execute_result"
    }
   ],
   "source": [
    "tbl = rfm.groupby(['R'])['Recency'].count().reset_index()\n",
    "tbl.query(\"Recency>0\")"
   ]
  },
  {
   "cell_type": "code",
   "execution_count": 40,
   "metadata": {},
   "outputs": [
    {
     "name": "stdout",
     "output_type": "stream",
     "text": [
      "Frequency\n",
      "0     2678\n",
      "1     1998\n",
      "2      319\n",
      "3       92\n",
      "4       46\n",
      "5       18\n",
      "6        5\n",
      "7        6\n",
      "8        2\n",
      "12       1\n",
      "18       1\n",
      "Name: Frequency, dtype: int64\n"
     ]
    }
   ],
   "source": [
    "#для Frequency\n",
    "with pd.option_context('display.max_rows', None):\n",
    "  print(rfm.groupby([\"Frequency\"])[\"Frequency\"].count())"
   ]
  },
  {
   "cell_type": "code",
   "execution_count": 41,
   "metadata": {},
   "outputs": [
    {
     "data": {
      "text/html": [
       "<div>\n",
       "<style scoped>\n",
       "    .dataframe tbody tr th:only-of-type {\n",
       "        vertical-align: middle;\n",
       "    }\n",
       "\n",
       "    .dataframe tbody tr th {\n",
       "        vertical-align: top;\n",
       "    }\n",
       "\n",
       "    .dataframe thead th {\n",
       "        text-align: right;\n",
       "    }\n",
       "</style>\n",
       "<table border=\"1\" class=\"dataframe\">\n",
       "  <thead>\n",
       "    <tr style=\"text-align: right;\">\n",
       "      <th></th>\n",
       "      <th>Frequency</th>\n",
       "    </tr>\n",
       "    <tr>\n",
       "      <th>F</th>\n",
       "      <th></th>\n",
       "    </tr>\n",
       "  </thead>\n",
       "  <tbody>\n",
       "    <tr>\n",
       "      <th>1</th>\n",
       "      <td>1998</td>\n",
       "    </tr>\n",
       "    <tr>\n",
       "      <th>2</th>\n",
       "      <td>319</td>\n",
       "    </tr>\n",
       "    <tr>\n",
       "      <th>3</th>\n",
       "      <td>92</td>\n",
       "    </tr>\n",
       "    <tr>\n",
       "      <th>4</th>\n",
       "      <td>64</td>\n",
       "    </tr>\n",
       "    <tr>\n",
       "      <th>5</th>\n",
       "      <td>15</td>\n",
       "    </tr>\n",
       "  </tbody>\n",
       "</table>\n",
       "</div>"
      ],
      "text/plain": [
       "   Frequency\n",
       "F           \n",
       "1       1998\n",
       "2        319\n",
       "3         92\n",
       "4         64\n",
       "5         15"
      ]
     },
     "execution_count": 41,
     "metadata": {},
     "output_type": "execute_result"
    }
   ],
   "source": [
    "tbl = rfm.groupby(['F'])['Frequency'].count().to_frame()\n",
    "tbl.query(\"Frequency>0\")"
   ]
  },
  {
   "cell_type": "code",
   "execution_count": 42,
   "metadata": {},
   "outputs": [
    {
     "name": "stdout",
     "output_type": "stream",
     "text": [
      "Monetary\n",
      "0.00        2678\n",
      "83.33         76\n",
      "100.00       154\n",
      "166.66        11\n",
      "200.00         9\n",
      "249.99         6\n",
      "250.00         4\n",
      "291.67         3\n",
      "300.00         9\n",
      "333.32         2\n",
      "333.33        11\n",
      "350.00        53\n",
      "370.00         1\n",
      "375.00        18\n",
      "383.33         1\n",
      "385.00         1\n",
      "400.00        60\n",
      "415.83       313\n",
      "416.65         1\n",
      "416.67         1\n",
      "420.00         2\n",
      "441.67         1\n",
      "450.00        84\n",
      "458.33        12\n",
      "466.66         1\n",
      "466.67         1\n",
      "499.00       754\n",
      "499.16         2\n",
      "499.17        11\n",
      "500.00        39\n",
      "541.67         1\n",
      "550.00        38\n",
      "570.00         2\n",
      "572.00         2\n",
      "580.00         2\n",
      "583.33         8\n",
      "583.34         1\n",
      "595.83         1\n",
      "599.00        64\n",
      "600.00        89\n",
      "608.33         1\n",
      "625.00         1\n",
      "641.67         1\n",
      "650.00         6\n",
      "660.00         1\n",
      "665.83         3\n",
      "666.67        28\n",
      "666.67         1\n",
      "680.00         2\n",
      "699.00         2\n",
      "700.00        15\n",
      "708.33         1\n",
      "708.34         1\n",
      "720.00         3\n",
      "750.00        11\n",
      "770.00         1\n",
      "779.00         1\n",
      "780.00         1\n",
      "783.33         1\n",
      "785.00         1\n",
      "790.83         4\n",
      "791.67         2\n",
      "799.00        17\n",
      "800.00        41\n",
      "820.00         1\n",
      "825.00         1\n",
      "831.66        78\n",
      "832.50         1\n",
      "833.33         2\n",
      "850.00         4\n",
      "875.00         1\n",
      "880.00         1\n",
      "899.00         1\n",
      "900.00         3\n",
      "914.83        11\n",
      "914.99         1\n",
      "915.81         1\n",
      "915.83         1\n",
      "916.67         3\n",
      "935.00         1\n",
      "945.83         1\n",
      "949.00         7\n",
      "950.00         8\n",
      "957.50         2\n",
      "958.33         1\n",
      "998.00        92\n",
      "998.34         2\n",
      "999.00         2\n",
      "999.17         1\n",
      "1000.00       12\n",
      "1041.67        1\n",
      "1050.00        1\n",
      "1058.34        1\n",
      "1083.33        1\n",
      "1098.00        1\n",
      "1099.00        4\n",
      "1100.00        7\n",
      "1125.00        1\n",
      "1145.83        1\n",
      "1150.00        3\n",
      "1155.00        1\n",
      "1165.00        1\n",
      "1166.67        3\n",
      "1169.00        1\n",
      "1181.33        1\n",
      "1198.00        5\n",
      "1199.00        7\n",
      "1200.00        5\n",
      "1206.66        2\n",
      "1210.00        1\n",
      "1216.67        1\n",
      "1247.49       25\n",
      "1248.33        1\n",
      "1249.00        1\n",
      "1250.00        5\n",
      "1265.67        1\n",
      "1283.33        1\n",
      "1300.00        5\n",
      "1308.33        1\n",
      "1330.66        4\n",
      "1332.49        1\n",
      "1333.33        1\n",
      "1333.34        4\n",
      "1350.00        3\n",
      "1400.00        2\n",
      "1414.15        1\n",
      "1416.67        1\n",
      "1430.00        1\n",
      "1458.33        1\n",
      "1483.33        1\n",
      "1497.00       21\n",
      "1498.33        1\n",
      "1499.00        1\n",
      "1499.17        1\n",
      "1500.00        3\n",
      "1509.00        1\n",
      "1540.00        1\n",
      "1541.67        1\n",
      "1549.00        1\n",
      "1550.00        1\n",
      "1558.33        2\n",
      "1597.00        2\n",
      "1598.00        1\n",
      "1600.00        1\n",
      "1622.49        1\n",
      "1650.00        2\n",
      "1663.32       14\n",
      "1666.67        2\n",
      "1700.00        1\n",
      "1741.67        1\n",
      "1746.49        2\n",
      "1760.00        1\n",
      "1765.67        1\n",
      "1798.00        2\n",
      "1799.00        2\n",
      "1800.00        2\n",
      "1825.00        1\n",
      "1833.33        1\n",
      "1833.34        1\n",
      "1850.00        1\n",
      "1912.83        1\n",
      "1947.00        2\n",
      "1958.33        1\n",
      "1972.00        1\n",
      "1980.00        1\n",
      "1996.00       13\n",
      "1999.17        1\n",
      "2000.00        1\n",
      "2000.01        3\n",
      "2038.32        1\n",
      "2038.32        1\n",
      "2050.00        2\n",
      "2079.15        7\n",
      "2083.34        1\n",
      "2108.33        1\n",
      "2199.00        1\n",
      "2415.83        1\n",
      "2420.00        1\n",
      "2446.00        1\n",
      "2494.98        4\n",
      "2495.00        2\n",
      "2578.15        1\n",
      "2583.34        1\n",
      "2633.34        1\n",
      "2681.33        1\n",
      "2699.00        1\n",
      "2833.33        1\n",
      "2869.98        1\n",
      "2910.81        1\n",
      "2999.00        1\n",
      "3324.99        1\n",
      "3326.64        2\n",
      "3332.50        1\n",
      "3382.50        1\n",
      "3493.00        1\n",
      "3708.33        1\n",
      "3980.84        1\n",
      "4000.00        1\n",
      "4914.16        1\n",
      "4999.16        1\n",
      "5333.34        1\n",
      "5416.67        1\n",
      "5988.00        1\n",
      "9583.33        1\n",
      "10800.00       1\n",
      "Name: Monetary, dtype: int64\n"
     ]
    }
   ],
   "source": [
    "#для Monetary\n",
    "with pd.option_context('display.max_rows', None):\n",
    "  print(rfm.groupby([\"Monetary\"])[\"Monetary\"].count())"
   ]
  },
  {
   "cell_type": "code",
   "execution_count": 43,
   "metadata": {},
   "outputs": [
    {
     "data": {
      "text/plain": [
       "Monetary\n",
       "0.00          0\n",
       "83.33        76\n",
       "100.00      154\n",
       "           ... \n",
       "5988.00       1\n",
       "9583.33       1\n",
       "10800.00      0\n",
       "Name: M, Length: 205, dtype: int64"
      ]
     },
     "execution_count": 43,
     "metadata": {},
     "output_type": "execute_result"
    }
   ],
   "source": [
    "#для Monetary\n",
    "tbl = rfm.groupby(['Monetary'])['M'].count()\n",
    "tbl                   #.query(\"M > 0 & Monetary <= 2\")['M'].sum()"
   ]
  },
  {
   "cell_type": "code",
   "execution_count": 44,
   "metadata": {},
   "outputs": [],
   "source": [
    "rfm[\"RFM_Score\"] = rfm[\"R\"].astype(str) +rfm[\"F\"].astype(str) + rfm[\"M\"].astype(str)"
   ]
  },
  {
   "cell_type": "code",
   "execution_count": 45,
   "metadata": {},
   "outputs": [
    {
     "data": {
      "text/html": [
       "<div>\n",
       "<style scoped>\n",
       "    .dataframe tbody tr th:only-of-type {\n",
       "        vertical-align: middle;\n",
       "    }\n",
       "\n",
       "    .dataframe tbody tr th {\n",
       "        vertical-align: top;\n",
       "    }\n",
       "\n",
       "    .dataframe thead th {\n",
       "        text-align: right;\n",
       "    }\n",
       "</style>\n",
       "<table border=\"1\" class=\"dataframe\">\n",
       "  <thead>\n",
       "    <tr style=\"text-align: right;\">\n",
       "      <th></th>\n",
       "      <th>Recency</th>\n",
       "      <th>Frequency</th>\n",
       "      <th>Monetary</th>\n",
       "      <th>R</th>\n",
       "      <th>F</th>\n",
       "      <th>M</th>\n",
       "      <th>RFM_Score</th>\n",
       "    </tr>\n",
       "    <tr>\n",
       "      <th>КодКонтрагента</th>\n",
       "      <th></th>\n",
       "      <th></th>\n",
       "      <th></th>\n",
       "      <th></th>\n",
       "      <th></th>\n",
       "      <th></th>\n",
       "      <th></th>\n",
       "    </tr>\n",
       "  </thead>\n",
       "  <tbody>\n",
       "    <tr>\n",
       "      <th>09460</th>\n",
       "      <td>129.0</td>\n",
       "      <td>1</td>\n",
       "      <td>83.33</td>\n",
       "      <td>4</td>\n",
       "      <td>1</td>\n",
       "      <td>1</td>\n",
       "      <td>411</td>\n",
       "    </tr>\n",
       "    <tr>\n",
       "      <th>10316</th>\n",
       "      <td>125.0</td>\n",
       "      <td>1</td>\n",
       "      <td>83.33</td>\n",
       "      <td>4</td>\n",
       "      <td>1</td>\n",
       "      <td>1</td>\n",
       "      <td>411</td>\n",
       "    </tr>\n",
       "    <tr>\n",
       "      <th>11095</th>\n",
       "      <td>143.0</td>\n",
       "      <td>1</td>\n",
       "      <td>100.00</td>\n",
       "      <td>4</td>\n",
       "      <td>1</td>\n",
       "      <td>1</td>\n",
       "      <td>411</td>\n",
       "    </tr>\n",
       "    <tr>\n",
       "      <th>...</th>\n",
       "      <td>...</td>\n",
       "      <td>...</td>\n",
       "      <td>...</td>\n",
       "      <td>...</td>\n",
       "      <td>...</td>\n",
       "      <td>...</td>\n",
       "      <td>...</td>\n",
       "    </tr>\n",
       "    <tr>\n",
       "      <th>38535</th>\n",
       "      <td>8.0</td>\n",
       "      <td>1</td>\n",
       "      <td>100.00</td>\n",
       "      <td>1</td>\n",
       "      <td>1</td>\n",
       "      <td>1</td>\n",
       "      <td>111</td>\n",
       "    </tr>\n",
       "    <tr>\n",
       "      <th>38556</th>\n",
       "      <td>6.0</td>\n",
       "      <td>1</td>\n",
       "      <td>100.00</td>\n",
       "      <td>1</td>\n",
       "      <td>1</td>\n",
       "      <td>1</td>\n",
       "      <td>111</td>\n",
       "    </tr>\n",
       "    <tr>\n",
       "      <th>38597</th>\n",
       "      <td>2.0</td>\n",
       "      <td>1</td>\n",
       "      <td>83.33</td>\n",
       "      <td>1</td>\n",
       "      <td>1</td>\n",
       "      <td>1</td>\n",
       "      <td>111</td>\n",
       "    </tr>\n",
       "  </tbody>\n",
       "</table>\n",
       "<p>230 rows × 7 columns</p>\n",
       "</div>"
      ],
      "text/plain": [
       "                Recency  Frequency  Monetary  R  F  M RFM_Score\n",
       "КодКонтрагента                                                 \n",
       "09460             129.0          1     83.33  4  1  1       411\n",
       "10316             125.0          1     83.33  4  1  1       411\n",
       "11095             143.0          1    100.00  4  1  1       411\n",
       "...                 ...        ...       ... .. .. ..       ...\n",
       "38535               8.0          1    100.00  1  1  1       111\n",
       "38556               6.0          1    100.00  1  1  1       111\n",
       "38597               2.0          1     83.33  1  1  1       111\n",
       "\n",
       "[230 rows x 7 columns]"
      ]
     },
     "execution_count": 45,
     "metadata": {},
     "output_type": "execute_result"
    }
   ],
   "source": [
    "rfm.query(\"Monetary.between(1,101)\")"
   ]
  },
  {
   "cell_type": "code",
   "execution_count": 46,
   "metadata": {},
   "outputs": [],
   "source": [
    "seg_map = {\n",
    "    r'[1-2][1-2]': 'Hibernating',\n",
    "    r'[1-2][3-4]': 'At Risk',\n",
    "    r'[1-2]5': 'Can\\'t Loose',\n",
    "    r'3[1-2]': 'About to Sleep',\n",
    "    r'33': 'Need Attention',\n",
    "    r'[3-4][4-5]': 'Loyal Customers',\n",
    "    r'41': 'Promising',\n",
    "    r'51': 'New Customers',\n",
    "    r'[4-5][2-3]': 'Potential Loyalists',\n",
    "    r'5[4-5]': 'Champions'\n",
    "}"
   ]
  },
  {
   "cell_type": "code",
   "execution_count": 47,
   "metadata": {},
   "outputs": [
    {
     "data": {
      "text/html": [
       "<div>\n",
       "<style scoped>\n",
       "    .dataframe tbody tr th:only-of-type {\n",
       "        vertical-align: middle;\n",
       "    }\n",
       "\n",
       "    .dataframe tbody tr th {\n",
       "        vertical-align: top;\n",
       "    }\n",
       "\n",
       "    .dataframe thead th {\n",
       "        text-align: right;\n",
       "    }\n",
       "</style>\n",
       "<table border=\"1\" class=\"dataframe\">\n",
       "  <thead>\n",
       "    <tr style=\"text-align: right;\">\n",
       "      <th></th>\n",
       "      <th>Recency</th>\n",
       "      <th>Frequency</th>\n",
       "      <th>Monetary</th>\n",
       "      <th>R</th>\n",
       "      <th>F</th>\n",
       "      <th>M</th>\n",
       "      <th>RFM_Score</th>\n",
       "      <th>Segment</th>\n",
       "    </tr>\n",
       "    <tr>\n",
       "      <th>КодКонтрагента</th>\n",
       "      <th></th>\n",
       "      <th></th>\n",
       "      <th></th>\n",
       "      <th></th>\n",
       "      <th></th>\n",
       "      <th></th>\n",
       "      <th></th>\n",
       "      <th></th>\n",
       "    </tr>\n",
       "  </thead>\n",
       "  <tbody>\n",
       "    <tr>\n",
       "      <th>01509</th>\n",
       "      <td>260.0</td>\n",
       "      <td>1</td>\n",
       "      <td>415.83</td>\n",
       "      <td>5</td>\n",
       "      <td>1</td>\n",
       "      <td>3</td>\n",
       "      <td>513</td>\n",
       "      <td>New Customers</td>\n",
       "    </tr>\n",
       "    <tr>\n",
       "      <th>03091</th>\n",
       "      <td>NaN</td>\n",
       "      <td>0</td>\n",
       "      <td>0.00</td>\n",
       "      <td>NaN</td>\n",
       "      <td>NaN</td>\n",
       "      <td>NaN</td>\n",
       "      <td>nannannan</td>\n",
       "      <td>nannan</td>\n",
       "    </tr>\n",
       "    <tr>\n",
       "      <th>03363</th>\n",
       "      <td>NaN</td>\n",
       "      <td>0</td>\n",
       "      <td>0.00</td>\n",
       "      <td>NaN</td>\n",
       "      <td>NaN</td>\n",
       "      <td>NaN</td>\n",
       "      <td>nannannan</td>\n",
       "      <td>nannan</td>\n",
       "    </tr>\n",
       "    <tr>\n",
       "      <th>03544</th>\n",
       "      <td>147.0</td>\n",
       "      <td>1</td>\n",
       "      <td>415.83</td>\n",
       "      <td>4</td>\n",
       "      <td>1</td>\n",
       "      <td>3</td>\n",
       "      <td>413</td>\n",
       "      <td>Promising</td>\n",
       "    </tr>\n",
       "    <tr>\n",
       "      <th>03970</th>\n",
       "      <td>NaN</td>\n",
       "      <td>0</td>\n",
       "      <td>0.00</td>\n",
       "      <td>NaN</td>\n",
       "      <td>NaN</td>\n",
       "      <td>NaN</td>\n",
       "      <td>nannannan</td>\n",
       "      <td>nannan</td>\n",
       "    </tr>\n",
       "  </tbody>\n",
       "</table>\n",
       "</div>"
      ],
      "text/plain": [
       "                Recency  Frequency  Monetary    R    F    M  RFM_Score  \\\n",
       "КодКонтрагента                                                           \n",
       "01509             260.0          1    415.83    5    1    3        513   \n",
       "03091               NaN          0      0.00  NaN  NaN  NaN  nannannan   \n",
       "03363               NaN          0      0.00  NaN  NaN  NaN  nannannan   \n",
       "03544             147.0          1    415.83    4    1    3        413   \n",
       "03970               NaN          0      0.00  NaN  NaN  NaN  nannannan   \n",
       "\n",
       "                      Segment  \n",
       "КодКонтрагента                 \n",
       "01509           New Customers  \n",
       "03091                  nannan  \n",
       "03363                  nannan  \n",
       "03544               Promising  \n",
       "03970                  nannan  "
      ]
     },
     "execution_count": 47,
     "metadata": {},
     "output_type": "execute_result"
    }
   ],
   "source": [
    "rfm['Segment'] = rfm['R'].astype(str) + rfm['F'].astype(str)\n",
    "rfm['Segment'] = rfm['Segment'].replace(seg_map, regex=True)\n",
    "rfm.head()"
   ]
  },
  {
   "cell_type": "code",
   "execution_count": 49,
   "metadata": {},
   "outputs": [
    {
     "name": "stdout",
     "output_type": "stream",
     "text": [
      "                        Recency  Frequency     Monetary\n",
      "Segment                                                \n",
      "nannan                      NaN   0.000000     0.000000\n",
      "Promising            135.382353   1.000000   463.127446\n",
      "New Customers        252.664482   1.000000   502.877837\n",
      "About to Sleep        74.695890   1.202740   545.812247\n",
      "Hibernating           30.448549   1.213720   596.686860\n",
      "Potential Loyalists  154.907216   2.154639  1058.918041\n",
      "Need Attention        76.450000   3.000000  1401.821500\n",
      "At Risk               27.328767   3.589041  1636.766575\n",
      "Champions            187.000000   4.000000  1663.320000\n",
      "Loyal Customers       90.468750   4.250000  1820.327188\n",
      "Can't Loose           25.428571   8.000000  3455.343571\n"
     ]
    },
    {
     "name": "stderr",
     "output_type": "stream",
     "text": [
      "<ipython-input-49-15c10b2a4fbb>:2: FutureWarning: The default value of numeric_only in DataFrameGroupBy.mean is deprecated. In a future version, numeric_only will default to False. Either specify numeric_only or select only columns which should be valid for the function.\n",
      "  print(rfm.groupby('Segment').mean().sort_values('Monetary'))\n"
     ]
    }
   ],
   "source": [
    "with pd.option_context('display.max_rows', None): \n",
    "    print(rfm.groupby('Segment').mean().sort_values('Monetary'))"
   ]
  },
  {
   "cell_type": "markdown",
   "metadata": {},
   "source": [
    "https://medium.com/@ugursavci/customer-segmentation-using-rfm-analysis-in-python-218a3255f714"
   ]
  }
 ],
 "metadata": {
  "kernelspec": {
   "display_name": "Python 3",
   "language": "python",
   "name": "python3"
  },
  "language_info": {
   "codemirror_mode": {
    "name": "ipython",
    "version": 3
   },
   "file_extension": ".py",
   "mimetype": "text/x-python",
   "name": "python",
   "nbconvert_exporter": "python",
   "pygments_lexer": "ipython3",
   "version": "3.8.10"
  }
 },
 "nbformat": 4,
 "nbformat_minor": 4
}
